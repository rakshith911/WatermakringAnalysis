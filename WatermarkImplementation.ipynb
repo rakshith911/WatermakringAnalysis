{
  "nbformat": 4,
  "nbformat_minor": 0,
  "metadata": {
    "colab": {
      "provenance": [],
      "gpuType": "T4"
    },
    "kernelspec": {
      "name": "python3",
      "display_name": "Python 3"
    },
    "language_info": {
      "name": "python"
    },
    "accelerator": "GPU",
    "widgets": {
      "application/vnd.jupyter.widget-state+json": {
        "a3e54b4f014f4642b43cea924d3476a3": {
          "model_module": "@jupyter-widgets/controls",
          "model_name": "HBoxModel",
          "model_module_version": "1.5.0",
          "state": {
            "_dom_classes": [],
            "_model_module": "@jupyter-widgets/controls",
            "_model_module_version": "1.5.0",
            "_model_name": "HBoxModel",
            "_view_count": null,
            "_view_module": "@jupyter-widgets/controls",
            "_view_module_version": "1.5.0",
            "_view_name": "HBoxView",
            "box_style": "",
            "children": [
              "IPY_MODEL_0b6dbb8e51e44f2abc455271f294be00",
              "IPY_MODEL_a54cf5f047334cc79e06bee0fe9fa5fd",
              "IPY_MODEL_73d82e252e864023848a792ca7c763c8"
            ],
            "layout": "IPY_MODEL_ae8829175bc442d893384dbdb8426c1b"
          }
        },
        "0b6dbb8e51e44f2abc455271f294be00": {
          "model_module": "@jupyter-widgets/controls",
          "model_name": "HTMLModel",
          "model_module_version": "1.5.0",
          "state": {
            "_dom_classes": [],
            "_model_module": "@jupyter-widgets/controls",
            "_model_module_version": "1.5.0",
            "_model_name": "HTMLModel",
            "_view_count": null,
            "_view_module": "@jupyter-widgets/controls",
            "_view_module_version": "1.5.0",
            "_view_name": "HTMLView",
            "description": "",
            "description_tooltip": null,
            "layout": "IPY_MODEL_17e00f7d7282404caaa2df6bdc38a781",
            "placeholder": "​",
            "style": "IPY_MODEL_14ab7bb9320b4072ab8e1190c508d617",
            "value": "(…)ingface.co/gpt2/resolve/main/config.json: 100%"
          }
        },
        "a54cf5f047334cc79e06bee0fe9fa5fd": {
          "model_module": "@jupyter-widgets/controls",
          "model_name": "FloatProgressModel",
          "model_module_version": "1.5.0",
          "state": {
            "_dom_classes": [],
            "_model_module": "@jupyter-widgets/controls",
            "_model_module_version": "1.5.0",
            "_model_name": "FloatProgressModel",
            "_view_count": null,
            "_view_module": "@jupyter-widgets/controls",
            "_view_module_version": "1.5.0",
            "_view_name": "ProgressView",
            "bar_style": "success",
            "description": "",
            "description_tooltip": null,
            "layout": "IPY_MODEL_c6197ac4e45547a6b26ae9c2481d35f0",
            "max": 665,
            "min": 0,
            "orientation": "horizontal",
            "style": "IPY_MODEL_500f875f06694a958d14c7f0d102de18",
            "value": 665
          }
        },
        "73d82e252e864023848a792ca7c763c8": {
          "model_module": "@jupyter-widgets/controls",
          "model_name": "HTMLModel",
          "model_module_version": "1.5.0",
          "state": {
            "_dom_classes": [],
            "_model_module": "@jupyter-widgets/controls",
            "_model_module_version": "1.5.0",
            "_model_name": "HTMLModel",
            "_view_count": null,
            "_view_module": "@jupyter-widgets/controls",
            "_view_module_version": "1.5.0",
            "_view_name": "HTMLView",
            "description": "",
            "description_tooltip": null,
            "layout": "IPY_MODEL_420b2a70d5f54934aaccba259418c0ff",
            "placeholder": "​",
            "style": "IPY_MODEL_97cafc3166af4d039548b7901dfbef65",
            "value": " 665/665 [00:00&lt;00:00, 28.6kB/s]"
          }
        },
        "ae8829175bc442d893384dbdb8426c1b": {
          "model_module": "@jupyter-widgets/base",
          "model_name": "LayoutModel",
          "model_module_version": "1.2.0",
          "state": {
            "_model_module": "@jupyter-widgets/base",
            "_model_module_version": "1.2.0",
            "_model_name": "LayoutModel",
            "_view_count": null,
            "_view_module": "@jupyter-widgets/base",
            "_view_module_version": "1.2.0",
            "_view_name": "LayoutView",
            "align_content": null,
            "align_items": null,
            "align_self": null,
            "border": null,
            "bottom": null,
            "display": null,
            "flex": null,
            "flex_flow": null,
            "grid_area": null,
            "grid_auto_columns": null,
            "grid_auto_flow": null,
            "grid_auto_rows": null,
            "grid_column": null,
            "grid_gap": null,
            "grid_row": null,
            "grid_template_areas": null,
            "grid_template_columns": null,
            "grid_template_rows": null,
            "height": null,
            "justify_content": null,
            "justify_items": null,
            "left": null,
            "margin": null,
            "max_height": null,
            "max_width": null,
            "min_height": null,
            "min_width": null,
            "object_fit": null,
            "object_position": null,
            "order": null,
            "overflow": null,
            "overflow_x": null,
            "overflow_y": null,
            "padding": null,
            "right": null,
            "top": null,
            "visibility": null,
            "width": null
          }
        },
        "17e00f7d7282404caaa2df6bdc38a781": {
          "model_module": "@jupyter-widgets/base",
          "model_name": "LayoutModel",
          "model_module_version": "1.2.0",
          "state": {
            "_model_module": "@jupyter-widgets/base",
            "_model_module_version": "1.2.0",
            "_model_name": "LayoutModel",
            "_view_count": null,
            "_view_module": "@jupyter-widgets/base",
            "_view_module_version": "1.2.0",
            "_view_name": "LayoutView",
            "align_content": null,
            "align_items": null,
            "align_self": null,
            "border": null,
            "bottom": null,
            "display": null,
            "flex": null,
            "flex_flow": null,
            "grid_area": null,
            "grid_auto_columns": null,
            "grid_auto_flow": null,
            "grid_auto_rows": null,
            "grid_column": null,
            "grid_gap": null,
            "grid_row": null,
            "grid_template_areas": null,
            "grid_template_columns": null,
            "grid_template_rows": null,
            "height": null,
            "justify_content": null,
            "justify_items": null,
            "left": null,
            "margin": null,
            "max_height": null,
            "max_width": null,
            "min_height": null,
            "min_width": null,
            "object_fit": null,
            "object_position": null,
            "order": null,
            "overflow": null,
            "overflow_x": null,
            "overflow_y": null,
            "padding": null,
            "right": null,
            "top": null,
            "visibility": null,
            "width": null
          }
        },
        "14ab7bb9320b4072ab8e1190c508d617": {
          "model_module": "@jupyter-widgets/controls",
          "model_name": "DescriptionStyleModel",
          "model_module_version": "1.5.0",
          "state": {
            "_model_module": "@jupyter-widgets/controls",
            "_model_module_version": "1.5.0",
            "_model_name": "DescriptionStyleModel",
            "_view_count": null,
            "_view_module": "@jupyter-widgets/base",
            "_view_module_version": "1.2.0",
            "_view_name": "StyleView",
            "description_width": ""
          }
        },
        "c6197ac4e45547a6b26ae9c2481d35f0": {
          "model_module": "@jupyter-widgets/base",
          "model_name": "LayoutModel",
          "model_module_version": "1.2.0",
          "state": {
            "_model_module": "@jupyter-widgets/base",
            "_model_module_version": "1.2.0",
            "_model_name": "LayoutModel",
            "_view_count": null,
            "_view_module": "@jupyter-widgets/base",
            "_view_module_version": "1.2.0",
            "_view_name": "LayoutView",
            "align_content": null,
            "align_items": null,
            "align_self": null,
            "border": null,
            "bottom": null,
            "display": null,
            "flex": null,
            "flex_flow": null,
            "grid_area": null,
            "grid_auto_columns": null,
            "grid_auto_flow": null,
            "grid_auto_rows": null,
            "grid_column": null,
            "grid_gap": null,
            "grid_row": null,
            "grid_template_areas": null,
            "grid_template_columns": null,
            "grid_template_rows": null,
            "height": null,
            "justify_content": null,
            "justify_items": null,
            "left": null,
            "margin": null,
            "max_height": null,
            "max_width": null,
            "min_height": null,
            "min_width": null,
            "object_fit": null,
            "object_position": null,
            "order": null,
            "overflow": null,
            "overflow_x": null,
            "overflow_y": null,
            "padding": null,
            "right": null,
            "top": null,
            "visibility": null,
            "width": null
          }
        },
        "500f875f06694a958d14c7f0d102de18": {
          "model_module": "@jupyter-widgets/controls",
          "model_name": "ProgressStyleModel",
          "model_module_version": "1.5.0",
          "state": {
            "_model_module": "@jupyter-widgets/controls",
            "_model_module_version": "1.5.0",
            "_model_name": "ProgressStyleModel",
            "_view_count": null,
            "_view_module": "@jupyter-widgets/base",
            "_view_module_version": "1.2.0",
            "_view_name": "StyleView",
            "bar_color": null,
            "description_width": ""
          }
        },
        "420b2a70d5f54934aaccba259418c0ff": {
          "model_module": "@jupyter-widgets/base",
          "model_name": "LayoutModel",
          "model_module_version": "1.2.0",
          "state": {
            "_model_module": "@jupyter-widgets/base",
            "_model_module_version": "1.2.0",
            "_model_name": "LayoutModel",
            "_view_count": null,
            "_view_module": "@jupyter-widgets/base",
            "_view_module_version": "1.2.0",
            "_view_name": "LayoutView",
            "align_content": null,
            "align_items": null,
            "align_self": null,
            "border": null,
            "bottom": null,
            "display": null,
            "flex": null,
            "flex_flow": null,
            "grid_area": null,
            "grid_auto_columns": null,
            "grid_auto_flow": null,
            "grid_auto_rows": null,
            "grid_column": null,
            "grid_gap": null,
            "grid_row": null,
            "grid_template_areas": null,
            "grid_template_columns": null,
            "grid_template_rows": null,
            "height": null,
            "justify_content": null,
            "justify_items": null,
            "left": null,
            "margin": null,
            "max_height": null,
            "max_width": null,
            "min_height": null,
            "min_width": null,
            "object_fit": null,
            "object_position": null,
            "order": null,
            "overflow": null,
            "overflow_x": null,
            "overflow_y": null,
            "padding": null,
            "right": null,
            "top": null,
            "visibility": null,
            "width": null
          }
        },
        "97cafc3166af4d039548b7901dfbef65": {
          "model_module": "@jupyter-widgets/controls",
          "model_name": "DescriptionStyleModel",
          "model_module_version": "1.5.0",
          "state": {
            "_model_module": "@jupyter-widgets/controls",
            "_model_module_version": "1.5.0",
            "_model_name": "DescriptionStyleModel",
            "_view_count": null,
            "_view_module": "@jupyter-widgets/base",
            "_view_module_version": "1.2.0",
            "_view_name": "StyleView",
            "description_width": ""
          }
        },
        "902b4ca474504291a915d5c6192081c2": {
          "model_module": "@jupyter-widgets/controls",
          "model_name": "HBoxModel",
          "model_module_version": "1.5.0",
          "state": {
            "_dom_classes": [],
            "_model_module": "@jupyter-widgets/controls",
            "_model_module_version": "1.5.0",
            "_model_name": "HBoxModel",
            "_view_count": null,
            "_view_module": "@jupyter-widgets/controls",
            "_view_module_version": "1.5.0",
            "_view_name": "HBoxView",
            "box_style": "",
            "children": [
              "IPY_MODEL_8d608063c08e42eab79455b1e953fdf8",
              "IPY_MODEL_78d4b1fd2cbc487bbbccb79ae37afda2",
              "IPY_MODEL_d0e5355241c34c468fbe780c623dd14e"
            ],
            "layout": "IPY_MODEL_63738139d7b54109b892441921e365d5"
          }
        },
        "8d608063c08e42eab79455b1e953fdf8": {
          "model_module": "@jupyter-widgets/controls",
          "model_name": "HTMLModel",
          "model_module_version": "1.5.0",
          "state": {
            "_dom_classes": [],
            "_model_module": "@jupyter-widgets/controls",
            "_model_module_version": "1.5.0",
            "_model_name": "HTMLModel",
            "_view_count": null,
            "_view_module": "@jupyter-widgets/controls",
            "_view_module_version": "1.5.0",
            "_view_name": "HTMLView",
            "description": "",
            "description_tooltip": null,
            "layout": "IPY_MODEL_27f1ee403eaf4e84bad959cec79e2756",
            "placeholder": "​",
            "style": "IPY_MODEL_4e794ed1fb8741378af1e6151dba4f7f",
            "value": "model.safetensors: 100%"
          }
        },
        "78d4b1fd2cbc487bbbccb79ae37afda2": {
          "model_module": "@jupyter-widgets/controls",
          "model_name": "FloatProgressModel",
          "model_module_version": "1.5.0",
          "state": {
            "_dom_classes": [],
            "_model_module": "@jupyter-widgets/controls",
            "_model_module_version": "1.5.0",
            "_model_name": "FloatProgressModel",
            "_view_count": null,
            "_view_module": "@jupyter-widgets/controls",
            "_view_module_version": "1.5.0",
            "_view_name": "ProgressView",
            "bar_style": "success",
            "description": "",
            "description_tooltip": null,
            "layout": "IPY_MODEL_8e041627180e4672b04d88dd91ad0fa3",
            "max": 548105171,
            "min": 0,
            "orientation": "horizontal",
            "style": "IPY_MODEL_c46953093b0548f78c958306b1f11d52",
            "value": 548105171
          }
        },
        "d0e5355241c34c468fbe780c623dd14e": {
          "model_module": "@jupyter-widgets/controls",
          "model_name": "HTMLModel",
          "model_module_version": "1.5.0",
          "state": {
            "_dom_classes": [],
            "_model_module": "@jupyter-widgets/controls",
            "_model_module_version": "1.5.0",
            "_model_name": "HTMLModel",
            "_view_count": null,
            "_view_module": "@jupyter-widgets/controls",
            "_view_module_version": "1.5.0",
            "_view_name": "HTMLView",
            "description": "",
            "description_tooltip": null,
            "layout": "IPY_MODEL_c8b6870d574247369f2984171cd442e0",
            "placeholder": "​",
            "style": "IPY_MODEL_c77e59a2e0974d829d536c4e45f15f8a",
            "value": " 548M/548M [00:01&lt;00:00, 297MB/s]"
          }
        },
        "63738139d7b54109b892441921e365d5": {
          "model_module": "@jupyter-widgets/base",
          "model_name": "LayoutModel",
          "model_module_version": "1.2.0",
          "state": {
            "_model_module": "@jupyter-widgets/base",
            "_model_module_version": "1.2.0",
            "_model_name": "LayoutModel",
            "_view_count": null,
            "_view_module": "@jupyter-widgets/base",
            "_view_module_version": "1.2.0",
            "_view_name": "LayoutView",
            "align_content": null,
            "align_items": null,
            "align_self": null,
            "border": null,
            "bottom": null,
            "display": null,
            "flex": null,
            "flex_flow": null,
            "grid_area": null,
            "grid_auto_columns": null,
            "grid_auto_flow": null,
            "grid_auto_rows": null,
            "grid_column": null,
            "grid_gap": null,
            "grid_row": null,
            "grid_template_areas": null,
            "grid_template_columns": null,
            "grid_template_rows": null,
            "height": null,
            "justify_content": null,
            "justify_items": null,
            "left": null,
            "margin": null,
            "max_height": null,
            "max_width": null,
            "min_height": null,
            "min_width": null,
            "object_fit": null,
            "object_position": null,
            "order": null,
            "overflow": null,
            "overflow_x": null,
            "overflow_y": null,
            "padding": null,
            "right": null,
            "top": null,
            "visibility": null,
            "width": null
          }
        },
        "27f1ee403eaf4e84bad959cec79e2756": {
          "model_module": "@jupyter-widgets/base",
          "model_name": "LayoutModel",
          "model_module_version": "1.2.0",
          "state": {
            "_model_module": "@jupyter-widgets/base",
            "_model_module_version": "1.2.0",
            "_model_name": "LayoutModel",
            "_view_count": null,
            "_view_module": "@jupyter-widgets/base",
            "_view_module_version": "1.2.0",
            "_view_name": "LayoutView",
            "align_content": null,
            "align_items": null,
            "align_self": null,
            "border": null,
            "bottom": null,
            "display": null,
            "flex": null,
            "flex_flow": null,
            "grid_area": null,
            "grid_auto_columns": null,
            "grid_auto_flow": null,
            "grid_auto_rows": null,
            "grid_column": null,
            "grid_gap": null,
            "grid_row": null,
            "grid_template_areas": null,
            "grid_template_columns": null,
            "grid_template_rows": null,
            "height": null,
            "justify_content": null,
            "justify_items": null,
            "left": null,
            "margin": null,
            "max_height": null,
            "max_width": null,
            "min_height": null,
            "min_width": null,
            "object_fit": null,
            "object_position": null,
            "order": null,
            "overflow": null,
            "overflow_x": null,
            "overflow_y": null,
            "padding": null,
            "right": null,
            "top": null,
            "visibility": null,
            "width": null
          }
        },
        "4e794ed1fb8741378af1e6151dba4f7f": {
          "model_module": "@jupyter-widgets/controls",
          "model_name": "DescriptionStyleModel",
          "model_module_version": "1.5.0",
          "state": {
            "_model_module": "@jupyter-widgets/controls",
            "_model_module_version": "1.5.0",
            "_model_name": "DescriptionStyleModel",
            "_view_count": null,
            "_view_module": "@jupyter-widgets/base",
            "_view_module_version": "1.2.0",
            "_view_name": "StyleView",
            "description_width": ""
          }
        },
        "8e041627180e4672b04d88dd91ad0fa3": {
          "model_module": "@jupyter-widgets/base",
          "model_name": "LayoutModel",
          "model_module_version": "1.2.0",
          "state": {
            "_model_module": "@jupyter-widgets/base",
            "_model_module_version": "1.2.0",
            "_model_name": "LayoutModel",
            "_view_count": null,
            "_view_module": "@jupyter-widgets/base",
            "_view_module_version": "1.2.0",
            "_view_name": "LayoutView",
            "align_content": null,
            "align_items": null,
            "align_self": null,
            "border": null,
            "bottom": null,
            "display": null,
            "flex": null,
            "flex_flow": null,
            "grid_area": null,
            "grid_auto_columns": null,
            "grid_auto_flow": null,
            "grid_auto_rows": null,
            "grid_column": null,
            "grid_gap": null,
            "grid_row": null,
            "grid_template_areas": null,
            "grid_template_columns": null,
            "grid_template_rows": null,
            "height": null,
            "justify_content": null,
            "justify_items": null,
            "left": null,
            "margin": null,
            "max_height": null,
            "max_width": null,
            "min_height": null,
            "min_width": null,
            "object_fit": null,
            "object_position": null,
            "order": null,
            "overflow": null,
            "overflow_x": null,
            "overflow_y": null,
            "padding": null,
            "right": null,
            "top": null,
            "visibility": null,
            "width": null
          }
        },
        "c46953093b0548f78c958306b1f11d52": {
          "model_module": "@jupyter-widgets/controls",
          "model_name": "ProgressStyleModel",
          "model_module_version": "1.5.0",
          "state": {
            "_model_module": "@jupyter-widgets/controls",
            "_model_module_version": "1.5.0",
            "_model_name": "ProgressStyleModel",
            "_view_count": null,
            "_view_module": "@jupyter-widgets/base",
            "_view_module_version": "1.2.0",
            "_view_name": "StyleView",
            "bar_color": null,
            "description_width": ""
          }
        },
        "c8b6870d574247369f2984171cd442e0": {
          "model_module": "@jupyter-widgets/base",
          "model_name": "LayoutModel",
          "model_module_version": "1.2.0",
          "state": {
            "_model_module": "@jupyter-widgets/base",
            "_model_module_version": "1.2.0",
            "_model_name": "LayoutModel",
            "_view_count": null,
            "_view_module": "@jupyter-widgets/base",
            "_view_module_version": "1.2.0",
            "_view_name": "LayoutView",
            "align_content": null,
            "align_items": null,
            "align_self": null,
            "border": null,
            "bottom": null,
            "display": null,
            "flex": null,
            "flex_flow": null,
            "grid_area": null,
            "grid_auto_columns": null,
            "grid_auto_flow": null,
            "grid_auto_rows": null,
            "grid_column": null,
            "grid_gap": null,
            "grid_row": null,
            "grid_template_areas": null,
            "grid_template_columns": null,
            "grid_template_rows": null,
            "height": null,
            "justify_content": null,
            "justify_items": null,
            "left": null,
            "margin": null,
            "max_height": null,
            "max_width": null,
            "min_height": null,
            "min_width": null,
            "object_fit": null,
            "object_position": null,
            "order": null,
            "overflow": null,
            "overflow_x": null,
            "overflow_y": null,
            "padding": null,
            "right": null,
            "top": null,
            "visibility": null,
            "width": null
          }
        },
        "c77e59a2e0974d829d536c4e45f15f8a": {
          "model_module": "@jupyter-widgets/controls",
          "model_name": "DescriptionStyleModel",
          "model_module_version": "1.5.0",
          "state": {
            "_model_module": "@jupyter-widgets/controls",
            "_model_module_version": "1.5.0",
            "_model_name": "DescriptionStyleModel",
            "_view_count": null,
            "_view_module": "@jupyter-widgets/base",
            "_view_module_version": "1.2.0",
            "_view_name": "StyleView",
            "description_width": ""
          }
        },
        "206f3a6068e44e1eac7e2eda2cf0c11c": {
          "model_module": "@jupyter-widgets/controls",
          "model_name": "HBoxModel",
          "model_module_version": "1.5.0",
          "state": {
            "_dom_classes": [],
            "_model_module": "@jupyter-widgets/controls",
            "_model_module_version": "1.5.0",
            "_model_name": "HBoxModel",
            "_view_count": null,
            "_view_module": "@jupyter-widgets/controls",
            "_view_module_version": "1.5.0",
            "_view_name": "HBoxView",
            "box_style": "",
            "children": [
              "IPY_MODEL_44c863b547474705970575a8366046ba",
              "IPY_MODEL_117b9614af5140278eb2e350864b9b1f",
              "IPY_MODEL_faba650fb4a144a098a7404f61c58f4f"
            ],
            "layout": "IPY_MODEL_0ecd498825f7495fa3b8006c7c4b0c16"
          }
        },
        "44c863b547474705970575a8366046ba": {
          "model_module": "@jupyter-widgets/controls",
          "model_name": "HTMLModel",
          "model_module_version": "1.5.0",
          "state": {
            "_dom_classes": [],
            "_model_module": "@jupyter-widgets/controls",
            "_model_module_version": "1.5.0",
            "_model_name": "HTMLModel",
            "_view_count": null,
            "_view_module": "@jupyter-widgets/controls",
            "_view_module_version": "1.5.0",
            "_view_name": "HTMLView",
            "description": "",
            "description_tooltip": null,
            "layout": "IPY_MODEL_e121168cb1d84124a9743ceed2bb5a67",
            "placeholder": "​",
            "style": "IPY_MODEL_03850f7597a9487ab392f8d9e7b05faa",
            "value": "(…)gpt2/resolve/main/generation_config.json: 100%"
          }
        },
        "117b9614af5140278eb2e350864b9b1f": {
          "model_module": "@jupyter-widgets/controls",
          "model_name": "FloatProgressModel",
          "model_module_version": "1.5.0",
          "state": {
            "_dom_classes": [],
            "_model_module": "@jupyter-widgets/controls",
            "_model_module_version": "1.5.0",
            "_model_name": "FloatProgressModel",
            "_view_count": null,
            "_view_module": "@jupyter-widgets/controls",
            "_view_module_version": "1.5.0",
            "_view_name": "ProgressView",
            "bar_style": "success",
            "description": "",
            "description_tooltip": null,
            "layout": "IPY_MODEL_36fc17ffdc474e42b5a9934760e70e56",
            "max": 124,
            "min": 0,
            "orientation": "horizontal",
            "style": "IPY_MODEL_3bc4f627c3f0473a8e225457b5a526a4",
            "value": 124
          }
        },
        "faba650fb4a144a098a7404f61c58f4f": {
          "model_module": "@jupyter-widgets/controls",
          "model_name": "HTMLModel",
          "model_module_version": "1.5.0",
          "state": {
            "_dom_classes": [],
            "_model_module": "@jupyter-widgets/controls",
            "_model_module_version": "1.5.0",
            "_model_name": "HTMLModel",
            "_view_count": null,
            "_view_module": "@jupyter-widgets/controls",
            "_view_module_version": "1.5.0",
            "_view_name": "HTMLView",
            "description": "",
            "description_tooltip": null,
            "layout": "IPY_MODEL_b85c1aafaf99423591834f922dc173e3",
            "placeholder": "​",
            "style": "IPY_MODEL_69b54e41f50a48d2a3cc82bda081af50",
            "value": " 124/124 [00:00&lt;00:00, 9.75kB/s]"
          }
        },
        "0ecd498825f7495fa3b8006c7c4b0c16": {
          "model_module": "@jupyter-widgets/base",
          "model_name": "LayoutModel",
          "model_module_version": "1.2.0",
          "state": {
            "_model_module": "@jupyter-widgets/base",
            "_model_module_version": "1.2.0",
            "_model_name": "LayoutModel",
            "_view_count": null,
            "_view_module": "@jupyter-widgets/base",
            "_view_module_version": "1.2.0",
            "_view_name": "LayoutView",
            "align_content": null,
            "align_items": null,
            "align_self": null,
            "border": null,
            "bottom": null,
            "display": null,
            "flex": null,
            "flex_flow": null,
            "grid_area": null,
            "grid_auto_columns": null,
            "grid_auto_flow": null,
            "grid_auto_rows": null,
            "grid_column": null,
            "grid_gap": null,
            "grid_row": null,
            "grid_template_areas": null,
            "grid_template_columns": null,
            "grid_template_rows": null,
            "height": null,
            "justify_content": null,
            "justify_items": null,
            "left": null,
            "margin": null,
            "max_height": null,
            "max_width": null,
            "min_height": null,
            "min_width": null,
            "object_fit": null,
            "object_position": null,
            "order": null,
            "overflow": null,
            "overflow_x": null,
            "overflow_y": null,
            "padding": null,
            "right": null,
            "top": null,
            "visibility": null,
            "width": null
          }
        },
        "e121168cb1d84124a9743ceed2bb5a67": {
          "model_module": "@jupyter-widgets/base",
          "model_name": "LayoutModel",
          "model_module_version": "1.2.0",
          "state": {
            "_model_module": "@jupyter-widgets/base",
            "_model_module_version": "1.2.0",
            "_model_name": "LayoutModel",
            "_view_count": null,
            "_view_module": "@jupyter-widgets/base",
            "_view_module_version": "1.2.0",
            "_view_name": "LayoutView",
            "align_content": null,
            "align_items": null,
            "align_self": null,
            "border": null,
            "bottom": null,
            "display": null,
            "flex": null,
            "flex_flow": null,
            "grid_area": null,
            "grid_auto_columns": null,
            "grid_auto_flow": null,
            "grid_auto_rows": null,
            "grid_column": null,
            "grid_gap": null,
            "grid_row": null,
            "grid_template_areas": null,
            "grid_template_columns": null,
            "grid_template_rows": null,
            "height": null,
            "justify_content": null,
            "justify_items": null,
            "left": null,
            "margin": null,
            "max_height": null,
            "max_width": null,
            "min_height": null,
            "min_width": null,
            "object_fit": null,
            "object_position": null,
            "order": null,
            "overflow": null,
            "overflow_x": null,
            "overflow_y": null,
            "padding": null,
            "right": null,
            "top": null,
            "visibility": null,
            "width": null
          }
        },
        "03850f7597a9487ab392f8d9e7b05faa": {
          "model_module": "@jupyter-widgets/controls",
          "model_name": "DescriptionStyleModel",
          "model_module_version": "1.5.0",
          "state": {
            "_model_module": "@jupyter-widgets/controls",
            "_model_module_version": "1.5.0",
            "_model_name": "DescriptionStyleModel",
            "_view_count": null,
            "_view_module": "@jupyter-widgets/base",
            "_view_module_version": "1.2.0",
            "_view_name": "StyleView",
            "description_width": ""
          }
        },
        "36fc17ffdc474e42b5a9934760e70e56": {
          "model_module": "@jupyter-widgets/base",
          "model_name": "LayoutModel",
          "model_module_version": "1.2.0",
          "state": {
            "_model_module": "@jupyter-widgets/base",
            "_model_module_version": "1.2.0",
            "_model_name": "LayoutModel",
            "_view_count": null,
            "_view_module": "@jupyter-widgets/base",
            "_view_module_version": "1.2.0",
            "_view_name": "LayoutView",
            "align_content": null,
            "align_items": null,
            "align_self": null,
            "border": null,
            "bottom": null,
            "display": null,
            "flex": null,
            "flex_flow": null,
            "grid_area": null,
            "grid_auto_columns": null,
            "grid_auto_flow": null,
            "grid_auto_rows": null,
            "grid_column": null,
            "grid_gap": null,
            "grid_row": null,
            "grid_template_areas": null,
            "grid_template_columns": null,
            "grid_template_rows": null,
            "height": null,
            "justify_content": null,
            "justify_items": null,
            "left": null,
            "margin": null,
            "max_height": null,
            "max_width": null,
            "min_height": null,
            "min_width": null,
            "object_fit": null,
            "object_position": null,
            "order": null,
            "overflow": null,
            "overflow_x": null,
            "overflow_y": null,
            "padding": null,
            "right": null,
            "top": null,
            "visibility": null,
            "width": null
          }
        },
        "3bc4f627c3f0473a8e225457b5a526a4": {
          "model_module": "@jupyter-widgets/controls",
          "model_name": "ProgressStyleModel",
          "model_module_version": "1.5.0",
          "state": {
            "_model_module": "@jupyter-widgets/controls",
            "_model_module_version": "1.5.0",
            "_model_name": "ProgressStyleModel",
            "_view_count": null,
            "_view_module": "@jupyter-widgets/base",
            "_view_module_version": "1.2.0",
            "_view_name": "StyleView",
            "bar_color": null,
            "description_width": ""
          }
        },
        "b85c1aafaf99423591834f922dc173e3": {
          "model_module": "@jupyter-widgets/base",
          "model_name": "LayoutModel",
          "model_module_version": "1.2.0",
          "state": {
            "_model_module": "@jupyter-widgets/base",
            "_model_module_version": "1.2.0",
            "_model_name": "LayoutModel",
            "_view_count": null,
            "_view_module": "@jupyter-widgets/base",
            "_view_module_version": "1.2.0",
            "_view_name": "LayoutView",
            "align_content": null,
            "align_items": null,
            "align_self": null,
            "border": null,
            "bottom": null,
            "display": null,
            "flex": null,
            "flex_flow": null,
            "grid_area": null,
            "grid_auto_columns": null,
            "grid_auto_flow": null,
            "grid_auto_rows": null,
            "grid_column": null,
            "grid_gap": null,
            "grid_row": null,
            "grid_template_areas": null,
            "grid_template_columns": null,
            "grid_template_rows": null,
            "height": null,
            "justify_content": null,
            "justify_items": null,
            "left": null,
            "margin": null,
            "max_height": null,
            "max_width": null,
            "min_height": null,
            "min_width": null,
            "object_fit": null,
            "object_position": null,
            "order": null,
            "overflow": null,
            "overflow_x": null,
            "overflow_y": null,
            "padding": null,
            "right": null,
            "top": null,
            "visibility": null,
            "width": null
          }
        },
        "69b54e41f50a48d2a3cc82bda081af50": {
          "model_module": "@jupyter-widgets/controls",
          "model_name": "DescriptionStyleModel",
          "model_module_version": "1.5.0",
          "state": {
            "_model_module": "@jupyter-widgets/controls",
            "_model_module_version": "1.5.0",
            "_model_name": "DescriptionStyleModel",
            "_view_count": null,
            "_view_module": "@jupyter-widgets/base",
            "_view_module_version": "1.2.0",
            "_view_name": "StyleView",
            "description_width": ""
          }
        },
        "56949053947d4accbae7973e4146348e": {
          "model_module": "@jupyter-widgets/controls",
          "model_name": "HBoxModel",
          "model_module_version": "1.5.0",
          "state": {
            "_dom_classes": [],
            "_model_module": "@jupyter-widgets/controls",
            "_model_module_version": "1.5.0",
            "_model_name": "HBoxModel",
            "_view_count": null,
            "_view_module": "@jupyter-widgets/controls",
            "_view_module_version": "1.5.0",
            "_view_name": "HBoxView",
            "box_style": "",
            "children": [
              "IPY_MODEL_dfc116b4fee646eea7a42a8173c3ed0b",
              "IPY_MODEL_0a9e6d8714854ea1a93adf28d74b419a",
              "IPY_MODEL_08124561008046e4b12f4f3c26963076"
            ],
            "layout": "IPY_MODEL_6980a6f9d64d4160b1fb2a691b961fc7"
          }
        },
        "dfc116b4fee646eea7a42a8173c3ed0b": {
          "model_module": "@jupyter-widgets/controls",
          "model_name": "HTMLModel",
          "model_module_version": "1.5.0",
          "state": {
            "_dom_classes": [],
            "_model_module": "@jupyter-widgets/controls",
            "_model_module_version": "1.5.0",
            "_model_name": "HTMLModel",
            "_view_count": null,
            "_view_module": "@jupyter-widgets/controls",
            "_view_module_version": "1.5.0",
            "_view_name": "HTMLView",
            "description": "",
            "description_tooltip": null,
            "layout": "IPY_MODEL_18c4a820445541e4a0726fd671ec0174",
            "placeholder": "​",
            "style": "IPY_MODEL_be914b3b3df44b83ae4ab8a6a3de5c06",
            "value": "(…)gingface.co/gpt2/resolve/main/vocab.json: 100%"
          }
        },
        "0a9e6d8714854ea1a93adf28d74b419a": {
          "model_module": "@jupyter-widgets/controls",
          "model_name": "FloatProgressModel",
          "model_module_version": "1.5.0",
          "state": {
            "_dom_classes": [],
            "_model_module": "@jupyter-widgets/controls",
            "_model_module_version": "1.5.0",
            "_model_name": "FloatProgressModel",
            "_view_count": null,
            "_view_module": "@jupyter-widgets/controls",
            "_view_module_version": "1.5.0",
            "_view_name": "ProgressView",
            "bar_style": "success",
            "description": "",
            "description_tooltip": null,
            "layout": "IPY_MODEL_99e0c78d240b472c90c443bc06bc2344",
            "max": 1042301,
            "min": 0,
            "orientation": "horizontal",
            "style": "IPY_MODEL_1c2034e0fb784aa2b514f0736e3e9e08",
            "value": 1042301
          }
        },
        "08124561008046e4b12f4f3c26963076": {
          "model_module": "@jupyter-widgets/controls",
          "model_name": "HTMLModel",
          "model_module_version": "1.5.0",
          "state": {
            "_dom_classes": [],
            "_model_module": "@jupyter-widgets/controls",
            "_model_module_version": "1.5.0",
            "_model_name": "HTMLModel",
            "_view_count": null,
            "_view_module": "@jupyter-widgets/controls",
            "_view_module_version": "1.5.0",
            "_view_name": "HTMLView",
            "description": "",
            "description_tooltip": null,
            "layout": "IPY_MODEL_f1ef6592926d491a97277c60a3097b2b",
            "placeholder": "​",
            "style": "IPY_MODEL_76ed72ae74f44c7486ab244580de558c",
            "value": " 1.04M/1.04M [00:01&lt;00:00, 879kB/s]"
          }
        },
        "6980a6f9d64d4160b1fb2a691b961fc7": {
          "model_module": "@jupyter-widgets/base",
          "model_name": "LayoutModel",
          "model_module_version": "1.2.0",
          "state": {
            "_model_module": "@jupyter-widgets/base",
            "_model_module_version": "1.2.0",
            "_model_name": "LayoutModel",
            "_view_count": null,
            "_view_module": "@jupyter-widgets/base",
            "_view_module_version": "1.2.0",
            "_view_name": "LayoutView",
            "align_content": null,
            "align_items": null,
            "align_self": null,
            "border": null,
            "bottom": null,
            "display": null,
            "flex": null,
            "flex_flow": null,
            "grid_area": null,
            "grid_auto_columns": null,
            "grid_auto_flow": null,
            "grid_auto_rows": null,
            "grid_column": null,
            "grid_gap": null,
            "grid_row": null,
            "grid_template_areas": null,
            "grid_template_columns": null,
            "grid_template_rows": null,
            "height": null,
            "justify_content": null,
            "justify_items": null,
            "left": null,
            "margin": null,
            "max_height": null,
            "max_width": null,
            "min_height": null,
            "min_width": null,
            "object_fit": null,
            "object_position": null,
            "order": null,
            "overflow": null,
            "overflow_x": null,
            "overflow_y": null,
            "padding": null,
            "right": null,
            "top": null,
            "visibility": null,
            "width": null
          }
        },
        "18c4a820445541e4a0726fd671ec0174": {
          "model_module": "@jupyter-widgets/base",
          "model_name": "LayoutModel",
          "model_module_version": "1.2.0",
          "state": {
            "_model_module": "@jupyter-widgets/base",
            "_model_module_version": "1.2.0",
            "_model_name": "LayoutModel",
            "_view_count": null,
            "_view_module": "@jupyter-widgets/base",
            "_view_module_version": "1.2.0",
            "_view_name": "LayoutView",
            "align_content": null,
            "align_items": null,
            "align_self": null,
            "border": null,
            "bottom": null,
            "display": null,
            "flex": null,
            "flex_flow": null,
            "grid_area": null,
            "grid_auto_columns": null,
            "grid_auto_flow": null,
            "grid_auto_rows": null,
            "grid_column": null,
            "grid_gap": null,
            "grid_row": null,
            "grid_template_areas": null,
            "grid_template_columns": null,
            "grid_template_rows": null,
            "height": null,
            "justify_content": null,
            "justify_items": null,
            "left": null,
            "margin": null,
            "max_height": null,
            "max_width": null,
            "min_height": null,
            "min_width": null,
            "object_fit": null,
            "object_position": null,
            "order": null,
            "overflow": null,
            "overflow_x": null,
            "overflow_y": null,
            "padding": null,
            "right": null,
            "top": null,
            "visibility": null,
            "width": null
          }
        },
        "be914b3b3df44b83ae4ab8a6a3de5c06": {
          "model_module": "@jupyter-widgets/controls",
          "model_name": "DescriptionStyleModel",
          "model_module_version": "1.5.0",
          "state": {
            "_model_module": "@jupyter-widgets/controls",
            "_model_module_version": "1.5.0",
            "_model_name": "DescriptionStyleModel",
            "_view_count": null,
            "_view_module": "@jupyter-widgets/base",
            "_view_module_version": "1.2.0",
            "_view_name": "StyleView",
            "description_width": ""
          }
        },
        "99e0c78d240b472c90c443bc06bc2344": {
          "model_module": "@jupyter-widgets/base",
          "model_name": "LayoutModel",
          "model_module_version": "1.2.0",
          "state": {
            "_model_module": "@jupyter-widgets/base",
            "_model_module_version": "1.2.0",
            "_model_name": "LayoutModel",
            "_view_count": null,
            "_view_module": "@jupyter-widgets/base",
            "_view_module_version": "1.2.0",
            "_view_name": "LayoutView",
            "align_content": null,
            "align_items": null,
            "align_self": null,
            "border": null,
            "bottom": null,
            "display": null,
            "flex": null,
            "flex_flow": null,
            "grid_area": null,
            "grid_auto_columns": null,
            "grid_auto_flow": null,
            "grid_auto_rows": null,
            "grid_column": null,
            "grid_gap": null,
            "grid_row": null,
            "grid_template_areas": null,
            "grid_template_columns": null,
            "grid_template_rows": null,
            "height": null,
            "justify_content": null,
            "justify_items": null,
            "left": null,
            "margin": null,
            "max_height": null,
            "max_width": null,
            "min_height": null,
            "min_width": null,
            "object_fit": null,
            "object_position": null,
            "order": null,
            "overflow": null,
            "overflow_x": null,
            "overflow_y": null,
            "padding": null,
            "right": null,
            "top": null,
            "visibility": null,
            "width": null
          }
        },
        "1c2034e0fb784aa2b514f0736e3e9e08": {
          "model_module": "@jupyter-widgets/controls",
          "model_name": "ProgressStyleModel",
          "model_module_version": "1.5.0",
          "state": {
            "_model_module": "@jupyter-widgets/controls",
            "_model_module_version": "1.5.0",
            "_model_name": "ProgressStyleModel",
            "_view_count": null,
            "_view_module": "@jupyter-widgets/base",
            "_view_module_version": "1.2.0",
            "_view_name": "StyleView",
            "bar_color": null,
            "description_width": ""
          }
        },
        "f1ef6592926d491a97277c60a3097b2b": {
          "model_module": "@jupyter-widgets/base",
          "model_name": "LayoutModel",
          "model_module_version": "1.2.0",
          "state": {
            "_model_module": "@jupyter-widgets/base",
            "_model_module_version": "1.2.0",
            "_model_name": "LayoutModel",
            "_view_count": null,
            "_view_module": "@jupyter-widgets/base",
            "_view_module_version": "1.2.0",
            "_view_name": "LayoutView",
            "align_content": null,
            "align_items": null,
            "align_self": null,
            "border": null,
            "bottom": null,
            "display": null,
            "flex": null,
            "flex_flow": null,
            "grid_area": null,
            "grid_auto_columns": null,
            "grid_auto_flow": null,
            "grid_auto_rows": null,
            "grid_column": null,
            "grid_gap": null,
            "grid_row": null,
            "grid_template_areas": null,
            "grid_template_columns": null,
            "grid_template_rows": null,
            "height": null,
            "justify_content": null,
            "justify_items": null,
            "left": null,
            "margin": null,
            "max_height": null,
            "max_width": null,
            "min_height": null,
            "min_width": null,
            "object_fit": null,
            "object_position": null,
            "order": null,
            "overflow": null,
            "overflow_x": null,
            "overflow_y": null,
            "padding": null,
            "right": null,
            "top": null,
            "visibility": null,
            "width": null
          }
        },
        "76ed72ae74f44c7486ab244580de558c": {
          "model_module": "@jupyter-widgets/controls",
          "model_name": "DescriptionStyleModel",
          "model_module_version": "1.5.0",
          "state": {
            "_model_module": "@jupyter-widgets/controls",
            "_model_module_version": "1.5.0",
            "_model_name": "DescriptionStyleModel",
            "_view_count": null,
            "_view_module": "@jupyter-widgets/base",
            "_view_module_version": "1.2.0",
            "_view_name": "StyleView",
            "description_width": ""
          }
        },
        "0f17636f91044ef08567bc51e294dc7c": {
          "model_module": "@jupyter-widgets/controls",
          "model_name": "HBoxModel",
          "model_module_version": "1.5.0",
          "state": {
            "_dom_classes": [],
            "_model_module": "@jupyter-widgets/controls",
            "_model_module_version": "1.5.0",
            "_model_name": "HBoxModel",
            "_view_count": null,
            "_view_module": "@jupyter-widgets/controls",
            "_view_module_version": "1.5.0",
            "_view_name": "HBoxView",
            "box_style": "",
            "children": [
              "IPY_MODEL_449d659eedfc4edd94491f7be453b255",
              "IPY_MODEL_9f7d044e9bda42b6ae469b36f98a394b",
              "IPY_MODEL_86558a330b2b467aab608bebcd42cde9"
            ],
            "layout": "IPY_MODEL_321cb2017922435c98e757caa9db9eba"
          }
        },
        "449d659eedfc4edd94491f7be453b255": {
          "model_module": "@jupyter-widgets/controls",
          "model_name": "HTMLModel",
          "model_module_version": "1.5.0",
          "state": {
            "_dom_classes": [],
            "_model_module": "@jupyter-widgets/controls",
            "_model_module_version": "1.5.0",
            "_model_name": "HTMLModel",
            "_view_count": null,
            "_view_module": "@jupyter-widgets/controls",
            "_view_module_version": "1.5.0",
            "_view_name": "HTMLView",
            "description": "",
            "description_tooltip": null,
            "layout": "IPY_MODEL_10090f7630ae43c28bc8d5f44a2cf307",
            "placeholder": "​",
            "style": "IPY_MODEL_1349897080de47b9acf5dcfcb9fd5b52",
            "value": "(…)gingface.co/gpt2/resolve/main/merges.txt: 100%"
          }
        },
        "9f7d044e9bda42b6ae469b36f98a394b": {
          "model_module": "@jupyter-widgets/controls",
          "model_name": "FloatProgressModel",
          "model_module_version": "1.5.0",
          "state": {
            "_dom_classes": [],
            "_model_module": "@jupyter-widgets/controls",
            "_model_module_version": "1.5.0",
            "_model_name": "FloatProgressModel",
            "_view_count": null,
            "_view_module": "@jupyter-widgets/controls",
            "_view_module_version": "1.5.0",
            "_view_name": "ProgressView",
            "bar_style": "success",
            "description": "",
            "description_tooltip": null,
            "layout": "IPY_MODEL_41248c31186f4ab08fa27b5431b860f2",
            "max": 456318,
            "min": 0,
            "orientation": "horizontal",
            "style": "IPY_MODEL_7ea6fe43b4404482912aa74dca97d67b",
            "value": 456318
          }
        },
        "86558a330b2b467aab608bebcd42cde9": {
          "model_module": "@jupyter-widgets/controls",
          "model_name": "HTMLModel",
          "model_module_version": "1.5.0",
          "state": {
            "_dom_classes": [],
            "_model_module": "@jupyter-widgets/controls",
            "_model_module_version": "1.5.0",
            "_model_name": "HTMLModel",
            "_view_count": null,
            "_view_module": "@jupyter-widgets/controls",
            "_view_module_version": "1.5.0",
            "_view_name": "HTMLView",
            "description": "",
            "description_tooltip": null,
            "layout": "IPY_MODEL_8e27e29794c545cf8b7d7fa53d071419",
            "placeholder": "​",
            "style": "IPY_MODEL_2e8ce1d0b2194a7fa9391249268256b6",
            "value": " 456k/456k [00:00&lt;00:00, 7.31MB/s]"
          }
        },
        "321cb2017922435c98e757caa9db9eba": {
          "model_module": "@jupyter-widgets/base",
          "model_name": "LayoutModel",
          "model_module_version": "1.2.0",
          "state": {
            "_model_module": "@jupyter-widgets/base",
            "_model_module_version": "1.2.0",
            "_model_name": "LayoutModel",
            "_view_count": null,
            "_view_module": "@jupyter-widgets/base",
            "_view_module_version": "1.2.0",
            "_view_name": "LayoutView",
            "align_content": null,
            "align_items": null,
            "align_self": null,
            "border": null,
            "bottom": null,
            "display": null,
            "flex": null,
            "flex_flow": null,
            "grid_area": null,
            "grid_auto_columns": null,
            "grid_auto_flow": null,
            "grid_auto_rows": null,
            "grid_column": null,
            "grid_gap": null,
            "grid_row": null,
            "grid_template_areas": null,
            "grid_template_columns": null,
            "grid_template_rows": null,
            "height": null,
            "justify_content": null,
            "justify_items": null,
            "left": null,
            "margin": null,
            "max_height": null,
            "max_width": null,
            "min_height": null,
            "min_width": null,
            "object_fit": null,
            "object_position": null,
            "order": null,
            "overflow": null,
            "overflow_x": null,
            "overflow_y": null,
            "padding": null,
            "right": null,
            "top": null,
            "visibility": null,
            "width": null
          }
        },
        "10090f7630ae43c28bc8d5f44a2cf307": {
          "model_module": "@jupyter-widgets/base",
          "model_name": "LayoutModel",
          "model_module_version": "1.2.0",
          "state": {
            "_model_module": "@jupyter-widgets/base",
            "_model_module_version": "1.2.0",
            "_model_name": "LayoutModel",
            "_view_count": null,
            "_view_module": "@jupyter-widgets/base",
            "_view_module_version": "1.2.0",
            "_view_name": "LayoutView",
            "align_content": null,
            "align_items": null,
            "align_self": null,
            "border": null,
            "bottom": null,
            "display": null,
            "flex": null,
            "flex_flow": null,
            "grid_area": null,
            "grid_auto_columns": null,
            "grid_auto_flow": null,
            "grid_auto_rows": null,
            "grid_column": null,
            "grid_gap": null,
            "grid_row": null,
            "grid_template_areas": null,
            "grid_template_columns": null,
            "grid_template_rows": null,
            "height": null,
            "justify_content": null,
            "justify_items": null,
            "left": null,
            "margin": null,
            "max_height": null,
            "max_width": null,
            "min_height": null,
            "min_width": null,
            "object_fit": null,
            "object_position": null,
            "order": null,
            "overflow": null,
            "overflow_x": null,
            "overflow_y": null,
            "padding": null,
            "right": null,
            "top": null,
            "visibility": null,
            "width": null
          }
        },
        "1349897080de47b9acf5dcfcb9fd5b52": {
          "model_module": "@jupyter-widgets/controls",
          "model_name": "DescriptionStyleModel",
          "model_module_version": "1.5.0",
          "state": {
            "_model_module": "@jupyter-widgets/controls",
            "_model_module_version": "1.5.0",
            "_model_name": "DescriptionStyleModel",
            "_view_count": null,
            "_view_module": "@jupyter-widgets/base",
            "_view_module_version": "1.2.0",
            "_view_name": "StyleView",
            "description_width": ""
          }
        },
        "41248c31186f4ab08fa27b5431b860f2": {
          "model_module": "@jupyter-widgets/base",
          "model_name": "LayoutModel",
          "model_module_version": "1.2.0",
          "state": {
            "_model_module": "@jupyter-widgets/base",
            "_model_module_version": "1.2.0",
            "_model_name": "LayoutModel",
            "_view_count": null,
            "_view_module": "@jupyter-widgets/base",
            "_view_module_version": "1.2.0",
            "_view_name": "LayoutView",
            "align_content": null,
            "align_items": null,
            "align_self": null,
            "border": null,
            "bottom": null,
            "display": null,
            "flex": null,
            "flex_flow": null,
            "grid_area": null,
            "grid_auto_columns": null,
            "grid_auto_flow": null,
            "grid_auto_rows": null,
            "grid_column": null,
            "grid_gap": null,
            "grid_row": null,
            "grid_template_areas": null,
            "grid_template_columns": null,
            "grid_template_rows": null,
            "height": null,
            "justify_content": null,
            "justify_items": null,
            "left": null,
            "margin": null,
            "max_height": null,
            "max_width": null,
            "min_height": null,
            "min_width": null,
            "object_fit": null,
            "object_position": null,
            "order": null,
            "overflow": null,
            "overflow_x": null,
            "overflow_y": null,
            "padding": null,
            "right": null,
            "top": null,
            "visibility": null,
            "width": null
          }
        },
        "7ea6fe43b4404482912aa74dca97d67b": {
          "model_module": "@jupyter-widgets/controls",
          "model_name": "ProgressStyleModel",
          "model_module_version": "1.5.0",
          "state": {
            "_model_module": "@jupyter-widgets/controls",
            "_model_module_version": "1.5.0",
            "_model_name": "ProgressStyleModel",
            "_view_count": null,
            "_view_module": "@jupyter-widgets/base",
            "_view_module_version": "1.2.0",
            "_view_name": "StyleView",
            "bar_color": null,
            "description_width": ""
          }
        },
        "8e27e29794c545cf8b7d7fa53d071419": {
          "model_module": "@jupyter-widgets/base",
          "model_name": "LayoutModel",
          "model_module_version": "1.2.0",
          "state": {
            "_model_module": "@jupyter-widgets/base",
            "_model_module_version": "1.2.0",
            "_model_name": "LayoutModel",
            "_view_count": null,
            "_view_module": "@jupyter-widgets/base",
            "_view_module_version": "1.2.0",
            "_view_name": "LayoutView",
            "align_content": null,
            "align_items": null,
            "align_self": null,
            "border": null,
            "bottom": null,
            "display": null,
            "flex": null,
            "flex_flow": null,
            "grid_area": null,
            "grid_auto_columns": null,
            "grid_auto_flow": null,
            "grid_auto_rows": null,
            "grid_column": null,
            "grid_gap": null,
            "grid_row": null,
            "grid_template_areas": null,
            "grid_template_columns": null,
            "grid_template_rows": null,
            "height": null,
            "justify_content": null,
            "justify_items": null,
            "left": null,
            "margin": null,
            "max_height": null,
            "max_width": null,
            "min_height": null,
            "min_width": null,
            "object_fit": null,
            "object_position": null,
            "order": null,
            "overflow": null,
            "overflow_x": null,
            "overflow_y": null,
            "padding": null,
            "right": null,
            "top": null,
            "visibility": null,
            "width": null
          }
        },
        "2e8ce1d0b2194a7fa9391249268256b6": {
          "model_module": "@jupyter-widgets/controls",
          "model_name": "DescriptionStyleModel",
          "model_module_version": "1.5.0",
          "state": {
            "_model_module": "@jupyter-widgets/controls",
            "_model_module_version": "1.5.0",
            "_model_name": "DescriptionStyleModel",
            "_view_count": null,
            "_view_module": "@jupyter-widgets/base",
            "_view_module_version": "1.2.0",
            "_view_name": "StyleView",
            "description_width": ""
          }
        },
        "87ddbdb5307042ebbec75c9ccf21ce0e": {
          "model_module": "@jupyter-widgets/controls",
          "model_name": "HBoxModel",
          "model_module_version": "1.5.0",
          "state": {
            "_dom_classes": [],
            "_model_module": "@jupyter-widgets/controls",
            "_model_module_version": "1.5.0",
            "_model_name": "HBoxModel",
            "_view_count": null,
            "_view_module": "@jupyter-widgets/controls",
            "_view_module_version": "1.5.0",
            "_view_name": "HBoxView",
            "box_style": "",
            "children": [
              "IPY_MODEL_0e4e8f1e120942c1a8ff2d0215755a8d",
              "IPY_MODEL_3bfb0506bf0d4c43bbd14527743f8744",
              "IPY_MODEL_94cb81781cf847b8b744a948a9fc276a"
            ],
            "layout": "IPY_MODEL_68f40432fc1a41c68439f4b4a2fc872c"
          }
        },
        "0e4e8f1e120942c1a8ff2d0215755a8d": {
          "model_module": "@jupyter-widgets/controls",
          "model_name": "HTMLModel",
          "model_module_version": "1.5.0",
          "state": {
            "_dom_classes": [],
            "_model_module": "@jupyter-widgets/controls",
            "_model_module_version": "1.5.0",
            "_model_name": "HTMLModel",
            "_view_count": null,
            "_view_module": "@jupyter-widgets/controls",
            "_view_module_version": "1.5.0",
            "_view_name": "HTMLView",
            "description": "",
            "description_tooltip": null,
            "layout": "IPY_MODEL_8be24812ecd949cfbd448210f3dd37e0",
            "placeholder": "​",
            "style": "IPY_MODEL_6c12701449b94218924c3880bb7bb5f5",
            "value": "(…)face.co/gpt2/resolve/main/tokenizer.json: 100%"
          }
        },
        "3bfb0506bf0d4c43bbd14527743f8744": {
          "model_module": "@jupyter-widgets/controls",
          "model_name": "FloatProgressModel",
          "model_module_version": "1.5.0",
          "state": {
            "_dom_classes": [],
            "_model_module": "@jupyter-widgets/controls",
            "_model_module_version": "1.5.0",
            "_model_name": "FloatProgressModel",
            "_view_count": null,
            "_view_module": "@jupyter-widgets/controls",
            "_view_module_version": "1.5.0",
            "_view_name": "ProgressView",
            "bar_style": "success",
            "description": "",
            "description_tooltip": null,
            "layout": "IPY_MODEL_79345d6c0d6a41cdbfc6e355429c8bdc",
            "max": 1355256,
            "min": 0,
            "orientation": "horizontal",
            "style": "IPY_MODEL_17ba0eeb912b425095057edcf85904b5",
            "value": 1355256
          }
        },
        "94cb81781cf847b8b744a948a9fc276a": {
          "model_module": "@jupyter-widgets/controls",
          "model_name": "HTMLModel",
          "model_module_version": "1.5.0",
          "state": {
            "_dom_classes": [],
            "_model_module": "@jupyter-widgets/controls",
            "_model_module_version": "1.5.0",
            "_model_name": "HTMLModel",
            "_view_count": null,
            "_view_module": "@jupyter-widgets/controls",
            "_view_module_version": "1.5.0",
            "_view_name": "HTMLView",
            "description": "",
            "description_tooltip": null,
            "layout": "IPY_MODEL_79435f132e21407498900b974cc8545d",
            "placeholder": "​",
            "style": "IPY_MODEL_01a60edd1390432289278969b0236df0",
            "value": " 1.36M/1.36M [00:00&lt;00:00, 1.40MB/s]"
          }
        },
        "68f40432fc1a41c68439f4b4a2fc872c": {
          "model_module": "@jupyter-widgets/base",
          "model_name": "LayoutModel",
          "model_module_version": "1.2.0",
          "state": {
            "_model_module": "@jupyter-widgets/base",
            "_model_module_version": "1.2.0",
            "_model_name": "LayoutModel",
            "_view_count": null,
            "_view_module": "@jupyter-widgets/base",
            "_view_module_version": "1.2.0",
            "_view_name": "LayoutView",
            "align_content": null,
            "align_items": null,
            "align_self": null,
            "border": null,
            "bottom": null,
            "display": null,
            "flex": null,
            "flex_flow": null,
            "grid_area": null,
            "grid_auto_columns": null,
            "grid_auto_flow": null,
            "grid_auto_rows": null,
            "grid_column": null,
            "grid_gap": null,
            "grid_row": null,
            "grid_template_areas": null,
            "grid_template_columns": null,
            "grid_template_rows": null,
            "height": null,
            "justify_content": null,
            "justify_items": null,
            "left": null,
            "margin": null,
            "max_height": null,
            "max_width": null,
            "min_height": null,
            "min_width": null,
            "object_fit": null,
            "object_position": null,
            "order": null,
            "overflow": null,
            "overflow_x": null,
            "overflow_y": null,
            "padding": null,
            "right": null,
            "top": null,
            "visibility": null,
            "width": null
          }
        },
        "8be24812ecd949cfbd448210f3dd37e0": {
          "model_module": "@jupyter-widgets/base",
          "model_name": "LayoutModel",
          "model_module_version": "1.2.0",
          "state": {
            "_model_module": "@jupyter-widgets/base",
            "_model_module_version": "1.2.0",
            "_model_name": "LayoutModel",
            "_view_count": null,
            "_view_module": "@jupyter-widgets/base",
            "_view_module_version": "1.2.0",
            "_view_name": "LayoutView",
            "align_content": null,
            "align_items": null,
            "align_self": null,
            "border": null,
            "bottom": null,
            "display": null,
            "flex": null,
            "flex_flow": null,
            "grid_area": null,
            "grid_auto_columns": null,
            "grid_auto_flow": null,
            "grid_auto_rows": null,
            "grid_column": null,
            "grid_gap": null,
            "grid_row": null,
            "grid_template_areas": null,
            "grid_template_columns": null,
            "grid_template_rows": null,
            "height": null,
            "justify_content": null,
            "justify_items": null,
            "left": null,
            "margin": null,
            "max_height": null,
            "max_width": null,
            "min_height": null,
            "min_width": null,
            "object_fit": null,
            "object_position": null,
            "order": null,
            "overflow": null,
            "overflow_x": null,
            "overflow_y": null,
            "padding": null,
            "right": null,
            "top": null,
            "visibility": null,
            "width": null
          }
        },
        "6c12701449b94218924c3880bb7bb5f5": {
          "model_module": "@jupyter-widgets/controls",
          "model_name": "DescriptionStyleModel",
          "model_module_version": "1.5.0",
          "state": {
            "_model_module": "@jupyter-widgets/controls",
            "_model_module_version": "1.5.0",
            "_model_name": "DescriptionStyleModel",
            "_view_count": null,
            "_view_module": "@jupyter-widgets/base",
            "_view_module_version": "1.2.0",
            "_view_name": "StyleView",
            "description_width": ""
          }
        },
        "79345d6c0d6a41cdbfc6e355429c8bdc": {
          "model_module": "@jupyter-widgets/base",
          "model_name": "LayoutModel",
          "model_module_version": "1.2.0",
          "state": {
            "_model_module": "@jupyter-widgets/base",
            "_model_module_version": "1.2.0",
            "_model_name": "LayoutModel",
            "_view_count": null,
            "_view_module": "@jupyter-widgets/base",
            "_view_module_version": "1.2.0",
            "_view_name": "LayoutView",
            "align_content": null,
            "align_items": null,
            "align_self": null,
            "border": null,
            "bottom": null,
            "display": null,
            "flex": null,
            "flex_flow": null,
            "grid_area": null,
            "grid_auto_columns": null,
            "grid_auto_flow": null,
            "grid_auto_rows": null,
            "grid_column": null,
            "grid_gap": null,
            "grid_row": null,
            "grid_template_areas": null,
            "grid_template_columns": null,
            "grid_template_rows": null,
            "height": null,
            "justify_content": null,
            "justify_items": null,
            "left": null,
            "margin": null,
            "max_height": null,
            "max_width": null,
            "min_height": null,
            "min_width": null,
            "object_fit": null,
            "object_position": null,
            "order": null,
            "overflow": null,
            "overflow_x": null,
            "overflow_y": null,
            "padding": null,
            "right": null,
            "top": null,
            "visibility": null,
            "width": null
          }
        },
        "17ba0eeb912b425095057edcf85904b5": {
          "model_module": "@jupyter-widgets/controls",
          "model_name": "ProgressStyleModel",
          "model_module_version": "1.5.0",
          "state": {
            "_model_module": "@jupyter-widgets/controls",
            "_model_module_version": "1.5.0",
            "_model_name": "ProgressStyleModel",
            "_view_count": null,
            "_view_module": "@jupyter-widgets/base",
            "_view_module_version": "1.2.0",
            "_view_name": "StyleView",
            "bar_color": null,
            "description_width": ""
          }
        },
        "79435f132e21407498900b974cc8545d": {
          "model_module": "@jupyter-widgets/base",
          "model_name": "LayoutModel",
          "model_module_version": "1.2.0",
          "state": {
            "_model_module": "@jupyter-widgets/base",
            "_model_module_version": "1.2.0",
            "_model_name": "LayoutModel",
            "_view_count": null,
            "_view_module": "@jupyter-widgets/base",
            "_view_module_version": "1.2.0",
            "_view_name": "LayoutView",
            "align_content": null,
            "align_items": null,
            "align_self": null,
            "border": null,
            "bottom": null,
            "display": null,
            "flex": null,
            "flex_flow": null,
            "grid_area": null,
            "grid_auto_columns": null,
            "grid_auto_flow": null,
            "grid_auto_rows": null,
            "grid_column": null,
            "grid_gap": null,
            "grid_row": null,
            "grid_template_areas": null,
            "grid_template_columns": null,
            "grid_template_rows": null,
            "height": null,
            "justify_content": null,
            "justify_items": null,
            "left": null,
            "margin": null,
            "max_height": null,
            "max_width": null,
            "min_height": null,
            "min_width": null,
            "object_fit": null,
            "object_position": null,
            "order": null,
            "overflow": null,
            "overflow_x": null,
            "overflow_y": null,
            "padding": null,
            "right": null,
            "top": null,
            "visibility": null,
            "width": null
          }
        },
        "01a60edd1390432289278969b0236df0": {
          "model_module": "@jupyter-widgets/controls",
          "model_name": "DescriptionStyleModel",
          "model_module_version": "1.5.0",
          "state": {
            "_model_module": "@jupyter-widgets/controls",
            "_model_module_version": "1.5.0",
            "_model_name": "DescriptionStyleModel",
            "_view_count": null,
            "_view_module": "@jupyter-widgets/base",
            "_view_module_version": "1.2.0",
            "_view_name": "StyleView",
            "description_width": ""
          }
        }
      }
    }
  },
  "cells": [
    {
      "cell_type": "markdown",
      "source": [
        "# **This notebook is the implementation of the paper \"A Watermark for Large Language Models\"**\n",
        "https://arxiv.org/pdf/2301.10226.pdf"
      ],
      "metadata": {
        "id": "O6cdFDXF8Qyi"
      }
    },
    {
      "cell_type": "markdown",
      "source": [
        "# Few segments of the code is taken from the offical github link of the watermarking algorithm.\n",
        "Reference link - https://github.com/jwkirchenbauer/lm-watermarking/blob/main/README.md"
      ],
      "metadata": {
        "id": "03Ai6_KYZL0_"
      }
    },
    {
      "cell_type": "markdown",
      "source": [
        "The report of the watermarking analysis can be found here - https://docs.google.com/document/d/1ueuSwAa15H3L2YiHUuoO_3leHoW6Aj5wkvVIvX28pT4/edit?usp=sharing"
      ],
      "metadata": {
        "id": "TubpHA2B6fit"
      }
    },
    {
      "cell_type": "markdown",
      "source": [
        "A few libraries mentioned in the github were mentioned in the requirements.txt file which is downloaded below"
      ],
      "metadata": {
        "id": "OvQHmysr6GUW"
      }
    },
    {
      "cell_type": "code",
      "execution_count": null,
      "metadata": {
        "id": "fc8zZxnvnPus"
      },
      "outputs": [],
      "source": [
        "!pip install -r requirements.txt"
      ]
    },
    {
      "cell_type": "markdown",
      "source": [
        "Here I clone the watermarking repo to make use of its contents"
      ],
      "metadata": {
        "id": "od-3jyvX5sVk"
      }
    },
    {
      "cell_type": "code",
      "source": [
        "!git clone https://github.com/jwkirchenbauer/lm-watermarking.git\n",
        "%cd /content/lm-watermarking\n",
        "!pip install transformers"
      ],
      "metadata": {
        "id": "I66JdsGftxB0"
      },
      "execution_count": null,
      "outputs": []
    },
    {
      "cell_type": "markdown",
      "source": [
        "Import the necessary libraries"
      ],
      "metadata": {
        "id": "Run2kep951zR"
      }
    },
    {
      "cell_type": "code",
      "source": [
        "import torch\n",
        "import pandas as pd\n",
        "import matplotlib.pyplot as plt"
      ],
      "metadata": {
        "id": "45np9BZYManb"
      },
      "execution_count": null,
      "outputs": []
    },
    {
      "cell_type": "code",
      "source": [
        "from transformers import (AutoTokenizer,\n",
        "                          AutoModelForCausalLM,\n",
        "                          LogitsProcessorList)"
      ],
      "metadata": {
        "id": "uFzmxwTNLRjX"
      },
      "execution_count": null,
      "outputs": []
    },
    {
      "cell_type": "code",
      "source": [
        "from extended_watermark_processor import WatermarkDetector, WatermarkLogitsProcessor"
      ],
      "metadata": {
        "id": "yAVSjZ5tLVXj"
      },
      "execution_count": null,
      "outputs": []
    },
    {
      "cell_type": "markdown",
      "source": [
        "Load the GPT2 model"
      ],
      "metadata": {
        "id": "rdMBeZ_f55WA"
      }
    },
    {
      "cell_type": "code",
      "source": [
        "from transformers import GPT2LMHeadModel, GPT2Tokenizer\n",
        "\n",
        "model = GPT2LMHeadModel.from_pretrained('gpt2')\n",
        "tokenizer = GPT2Tokenizer.from_pretrained('gpt2')"
      ],
      "metadata": {
        "colab": {
          "base_uri": "https://localhost:8080/",
          "height": 209,
          "referenced_widgets": [
            "a3e54b4f014f4642b43cea924d3476a3",
            "0b6dbb8e51e44f2abc455271f294be00",
            "a54cf5f047334cc79e06bee0fe9fa5fd",
            "73d82e252e864023848a792ca7c763c8",
            "ae8829175bc442d893384dbdb8426c1b",
            "17e00f7d7282404caaa2df6bdc38a781",
            "14ab7bb9320b4072ab8e1190c508d617",
            "c6197ac4e45547a6b26ae9c2481d35f0",
            "500f875f06694a958d14c7f0d102de18",
            "420b2a70d5f54934aaccba259418c0ff",
            "97cafc3166af4d039548b7901dfbef65",
            "902b4ca474504291a915d5c6192081c2",
            "8d608063c08e42eab79455b1e953fdf8",
            "78d4b1fd2cbc487bbbccb79ae37afda2",
            "d0e5355241c34c468fbe780c623dd14e",
            "63738139d7b54109b892441921e365d5",
            "27f1ee403eaf4e84bad959cec79e2756",
            "4e794ed1fb8741378af1e6151dba4f7f",
            "8e041627180e4672b04d88dd91ad0fa3",
            "c46953093b0548f78c958306b1f11d52",
            "c8b6870d574247369f2984171cd442e0",
            "c77e59a2e0974d829d536c4e45f15f8a",
            "206f3a6068e44e1eac7e2eda2cf0c11c",
            "44c863b547474705970575a8366046ba",
            "117b9614af5140278eb2e350864b9b1f",
            "faba650fb4a144a098a7404f61c58f4f",
            "0ecd498825f7495fa3b8006c7c4b0c16",
            "e121168cb1d84124a9743ceed2bb5a67",
            "03850f7597a9487ab392f8d9e7b05faa",
            "36fc17ffdc474e42b5a9934760e70e56",
            "3bc4f627c3f0473a8e225457b5a526a4",
            "b85c1aafaf99423591834f922dc173e3",
            "69b54e41f50a48d2a3cc82bda081af50",
            "56949053947d4accbae7973e4146348e",
            "dfc116b4fee646eea7a42a8173c3ed0b",
            "0a9e6d8714854ea1a93adf28d74b419a",
            "08124561008046e4b12f4f3c26963076",
            "6980a6f9d64d4160b1fb2a691b961fc7",
            "18c4a820445541e4a0726fd671ec0174",
            "be914b3b3df44b83ae4ab8a6a3de5c06",
            "99e0c78d240b472c90c443bc06bc2344",
            "1c2034e0fb784aa2b514f0736e3e9e08",
            "f1ef6592926d491a97277c60a3097b2b",
            "76ed72ae74f44c7486ab244580de558c",
            "0f17636f91044ef08567bc51e294dc7c",
            "449d659eedfc4edd94491f7be453b255",
            "9f7d044e9bda42b6ae469b36f98a394b",
            "86558a330b2b467aab608bebcd42cde9",
            "321cb2017922435c98e757caa9db9eba",
            "10090f7630ae43c28bc8d5f44a2cf307",
            "1349897080de47b9acf5dcfcb9fd5b52",
            "41248c31186f4ab08fa27b5431b860f2",
            "7ea6fe43b4404482912aa74dca97d67b",
            "8e27e29794c545cf8b7d7fa53d071419",
            "2e8ce1d0b2194a7fa9391249268256b6",
            "87ddbdb5307042ebbec75c9ccf21ce0e",
            "0e4e8f1e120942c1a8ff2d0215755a8d",
            "3bfb0506bf0d4c43bbd14527743f8744",
            "94cb81781cf847b8b744a948a9fc276a",
            "68f40432fc1a41c68439f4b4a2fc872c",
            "8be24812ecd949cfbd448210f3dd37e0",
            "6c12701449b94218924c3880bb7bb5f5",
            "79345d6c0d6a41cdbfc6e355429c8bdc",
            "17ba0eeb912b425095057edcf85904b5",
            "79435f132e21407498900b974cc8545d",
            "01a60edd1390432289278969b0236df0"
          ]
        },
        "id": "qIsy_srVMiMD",
        "outputId": "473c9446-7acf-4a6e-ccaa-075b5a8c6265"
      },
      "execution_count": null,
      "outputs": [
        {
          "output_type": "display_data",
          "data": {
            "text/plain": [
              "(…)ingface.co/gpt2/resolve/main/config.json:   0%|          | 0.00/665 [00:00<?, ?B/s]"
            ],
            "application/vnd.jupyter.widget-view+json": {
              "version_major": 2,
              "version_minor": 0,
              "model_id": "a3e54b4f014f4642b43cea924d3476a3"
            }
          },
          "metadata": {}
        },
        {
          "output_type": "display_data",
          "data": {
            "text/plain": [
              "model.safetensors:   0%|          | 0.00/548M [00:00<?, ?B/s]"
            ],
            "application/vnd.jupyter.widget-view+json": {
              "version_major": 2,
              "version_minor": 0,
              "model_id": "902b4ca474504291a915d5c6192081c2"
            }
          },
          "metadata": {}
        },
        {
          "output_type": "display_data",
          "data": {
            "text/plain": [
              "(…)gpt2/resolve/main/generation_config.json:   0%|          | 0.00/124 [00:00<?, ?B/s]"
            ],
            "application/vnd.jupyter.widget-view+json": {
              "version_major": 2,
              "version_minor": 0,
              "model_id": "206f3a6068e44e1eac7e2eda2cf0c11c"
            }
          },
          "metadata": {}
        },
        {
          "output_type": "display_data",
          "data": {
            "text/plain": [
              "(…)gingface.co/gpt2/resolve/main/vocab.json:   0%|          | 0.00/1.04M [00:00<?, ?B/s]"
            ],
            "application/vnd.jupyter.widget-view+json": {
              "version_major": 2,
              "version_minor": 0,
              "model_id": "56949053947d4accbae7973e4146348e"
            }
          },
          "metadata": {}
        },
        {
          "output_type": "display_data",
          "data": {
            "text/plain": [
              "(…)gingface.co/gpt2/resolve/main/merges.txt:   0%|          | 0.00/456k [00:00<?, ?B/s]"
            ],
            "application/vnd.jupyter.widget-view+json": {
              "version_major": 2,
              "version_minor": 0,
              "model_id": "0f17636f91044ef08567bc51e294dc7c"
            }
          },
          "metadata": {}
        },
        {
          "output_type": "display_data",
          "data": {
            "text/plain": [
              "(…)face.co/gpt2/resolve/main/tokenizer.json:   0%|          | 0.00/1.36M [00:00<?, ?B/s]"
            ],
            "application/vnd.jupyter.widget-view+json": {
              "version_major": 2,
              "version_minor": 0,
              "model_id": "87ddbdb5307042ebbec75c9ccf21ce0e"
            }
          },
          "metadata": {}
        }
      ]
    },
    {
      "cell_type": "code",
      "source": [
        "input_text = (\"The diamondback terrapin or simply terrapin (Malaclemys terrapin) is a \"\n",
        "        \"species of turtle native to the brackish coastal tidal marshes of the \"\n",
        "        \"Northeastern and southern United States, and in Bermuda.[6] It belongs \"\n",
        "        \"to the monotypic genus Malaclemys. It has one of the largest ranges of \"\n",
        "        \"all turtles in North America, stretching as far south as the Florida Keys \"\n",
        "        \"and as far north as Cape Cod.[7] The name 'terrapin' is derived from the \"\n",
        "        \"Algonquian word torope.[8] It applies to Malaclemys terrapin in both \"\n",
        "        \"British English and American English. The name originally was used by \"\n",
        "        \"early European settlers in North America to describe these brackish-water \"\n",
        "        \"turtles that inhabited neither freshwater habitats nor the sea. It retains \"\n",
        "        \"this primary meaning in American English.[8] In British English, however, \"\n",
        "        \"other semi-aquatic turtle species, such as the red-eared slider, might \"\n",
        "        \"also be called terrapins. The common name refers to the diamond pattern \"\n",
        "        \"on top of its shell (carapace), but the overall pattern and coloration \"\n",
        "        \"vary greatly. The shell is usually wider at the back than in the front, \"\n",
        "        \"and from above it appears wedge-shaped. The shell coloring can vary \"\n",
        "        \"from brown to grey, and its body color can be grey, brown, yellow, \"\n",
        "        \"or white. All have a unique pattern of wiggly, black markings or spots \"\n",
        "        \"on their body and head. The diamondback terrapin has large webbed \"\n",
        "        \"feet.[9] The species is\")\n"
      ],
      "metadata": {
        "id": "-Jumg5wcNYFq"
      },
      "execution_count": null,
      "outputs": []
    },
    {
      "cell_type": "markdown",
      "source": [
        "The below is used to decide on wether to use multimodal sampling or beam search"
      ],
      "metadata": {
        "id": "cUKoG0O6lXjc"
      }
    },
    {
      "cell_type": "code",
      "source": [
        "torch.manual_seed(123)\n",
        "use_sampling = True\n",
        "\n",
        "gen_kwargs = dict(max_new_tokens=200)\n",
        "\n",
        "if use_sampling:\n",
        "    gen_kwargs.update(dict(\n",
        "        do_sample = True,\n",
        "        top_k = 0,\n",
        "        temperature = 0.7\n",
        "    ))\n",
        "else:\n",
        "    gen_kwargs.update(dict(\n",
        "        num_beams = 4\n",
        "    ))"
      ],
      "metadata": {
        "id": "-cnSsIQthS1I"
      },
      "execution_count": null,
      "outputs": []
    },
    {
      "cell_type": "code",
      "source": [
        "device = 'cuda' if torch.cuda.is_available() else 'cpu'"
      ],
      "metadata": {
        "id": "5isqiWNX797P"
      },
      "execution_count": null,
      "outputs": []
    },
    {
      "cell_type": "markdown",
      "source": [
        "# First analysis will be done on default valyes of gamma=0.25, delta=2.0 and the seeding_scheme = \"selfhash\""
      ],
      "metadata": {
        "id": "ZRAcxd-n-HFQ"
      }
    },
    {
      "cell_type": "code",
      "source": [
        "tokd_input = tokenizer(input_text, return_tensors=\"pt\", add_special_tokens=True, truncation=True).to(device) #Set the tokenized prompt tensors on the chosen hardware\n",
        "truncation_warning = True if tokd_input[\"input_ids\"].shape[-1] == 200 else False"
      ],
      "metadata": {
        "id": "UHn3g6LYhf78"
      },
      "execution_count": null,
      "outputs": []
    },
    {
      "cell_type": "code",
      "source": [
        "gamma = 0.25\n",
        "delta = 2.0\n",
        "seeding_scheme = \"selfhash\""
      ],
      "metadata": {
        "id": "PEW7jqQs_yxD"
      },
      "execution_count": null,
      "outputs": []
    },
    {
      "cell_type": "code",
      "source": [
        "model.to(device)\n",
        "tokenized_input = tokenizer(input_text, return_tensors=\"pt\")\n",
        "tokenized_input = {key: value.to(device) for key, value in tokenized_input.items()}\n",
        "\n",
        "watermark_processor = WatermarkLogitsProcessor(vocab=list(tokenizer.get_vocab().values()),\n",
        "                                               gamma=gamma,\n",
        "                                               delta=delta,\n",
        "                                               seeding_scheme=seeding_scheme,\n",
        "                                               select_green_tokens=True)\n",
        "\n",
        "output_with_watermark = model.generate(**tokd_input,\n",
        "                                       logits_processor=LogitsProcessorList([watermark_processor]),\n",
        "                                       **gen_kwargs)\n",
        "decoded_watermark = tokenizer.batch_decode(output_with_watermark, skip_special_tokens=True)[0]"
      ],
      "metadata": {
        "colab": {
          "base_uri": "https://localhost:8080/"
        },
        "id": "Ous0LeiQUlD2",
        "outputId": "fb5513ee-2140-410c-de0e-7e58b752edd8"
      },
      "execution_count": null,
      "outputs": [
        {
          "output_type": "stream",
          "name": "stderr",
          "text": [
            "Setting `pad_token_id` to `eos_token_id`:50256 for open-end generation.\n"
          ]
        }
      ]
    },
    {
      "cell_type": "markdown",
      "source": [
        "# **We can view the results (z-score, green_tokens and p_value) of the default hyperparameter values below**"
      ],
      "metadata": {
        "id": "0b1Dc3lv-S1y"
      }
    },
    {
      "cell_type": "code",
      "source": [
        "from extended_watermark_processor import WatermarkDetector\n",
        "\n",
        "watermark_detector = WatermarkDetector(vocab=list(tokenizer.get_vocab().values()),\n",
        "                                        gamma=gamma,\n",
        "                                        seeding_scheme=seeding_scheme,\n",
        "                                        device='cuda',\n",
        "                                        tokenizer=tokenizer,\n",
        "                                        z_threshold=4.0,\n",
        "                                        normalizers=\"\",\n",
        "                                        ignore_repeated_ngrams=False,\n",
        "                                        select_green_tokens=True)\n",
        "\n",
        "results = watermark_detector.detect(decoded_watermark)"
      ],
      "metadata": {
        "id": "mbnyy6L5-7cm"
      },
      "execution_count": null,
      "outputs": []
    },
    {
      "cell_type": "code",
      "source": [
        "results"
      ],
      "metadata": {
        "colab": {
          "base_uri": "https://localhost:8080/"
        },
        "id": "ETTozrxR_vS8",
        "outputId": "45f73cd3-d88a-4803-89d5-c5c729b57cda"
      },
      "execution_count": null,
      "outputs": [
        {
          "output_type": "execute_result",
          "data": {
            "text/plain": [
              "{'num_tokens_scored': 511,\n",
              " 'num_green_tokens': 232,\n",
              " 'green_fraction': 0.45401174168297453,\n",
              " 'z_score': 10.650376912378917,\n",
              " 'p_value': 8.683024256993107e-27,\n",
              " 'z_score_at_T': tensor([ 1.7321,  0.8165,  1.6667,  2.3094,  2.8402,  2.3570,  1.9640,  2.4495,\n",
              "          2.1170,  1.8257,  1.5667,  1.3333,  1.1209,  0.9258,  0.7454,  0.5774,\n",
              "          0.4201,  0.2722,  0.6623,  0.5164,  0.3780,  0.2462,  0.1204,  0.4714,\n",
              "          0.8083,  1.1323,  1.0000,  1.3093,  1.1793,  1.0541,  1.3480,  1.2247,\n",
              "          1.1055,  0.9901,  1.2687,  1.5396,  1.4237,  1.3112,  1.2019,  1.0954,\n",
              "          0.9918,  0.8909,  0.7924,  1.0445,  0.9467,  0.8513,  0.7579,  0.6667,\n",
              "          0.9073,  0.8165,  1.0510,  0.9608,  1.1896,  1.0999,  1.0120,  0.9258,\n",
              "          0.8412,  0.7581,  0.6765,  0.5963,  0.5175,  0.7332,  0.6547,  0.5774,\n",
              "          0.5013,  0.4264,  0.3527,  0.2801,  0.2085,  0.1380,  0.0685,  0.0000,\n",
              "          0.2027,  0.1342,  0.0667,  0.2649,  0.1974,  0.1307,  0.3248,  0.2582,\n",
              "          0.1925,  0.1275,  0.0634,  0.2520,  0.1879,  0.1245,  0.0619,  0.0000,\n",
              "         -0.0612, -0.1217, -0.1816, -0.2408, -0.2993, -0.3573, -0.4146, -0.2357,\n",
              "         -0.2931, -0.3499, -0.4062, -0.2309, -0.2872, -0.1143, -0.1707, -0.2265,\n",
              "         -0.0563, -0.1122, -0.1674, -0.2222, -0.2765, -0.1101, -0.1644, -0.2182,\n",
              "         -0.2716, -0.1081,  0.0538,  0.0000, -0.0534, -0.1063, -0.1588, -0.2108,\n",
              "         -0.2624, -0.3136, -0.3644, -0.4148, -0.4648, -0.5143, -0.3586, -0.4082,\n",
              "         -0.2542, -0.3038, -0.3531, -0.4020, -0.4506, -0.4988, -0.5466, -0.5941,\n",
              "         -0.4439, -0.4915, -0.5387, -0.5855, -0.6321, -0.6783, -0.5311, -0.5774,\n",
              "         -0.4315, -0.4778, -0.5238, -0.5695, -0.6149, -0.6600, -0.5168, -0.5620,\n",
              "         -0.4201, -0.4652, -0.5101, -0.5547, -0.4147, -0.2756, -0.3205, -0.1826,\n",
              "         -0.2275, -0.2722, -0.3166, -0.1803, -0.2247, -0.2689, -0.1340,  0.0000,\n",
              "         -0.0444,  0.0886,  0.0442,  0.0000, -0.0439,  0.0875,  0.0436,  0.0000,\n",
              "          0.1302,  0.0865,  0.0432,  0.1721,  0.1287,  0.2568,  0.2134,  0.3405,\n",
              "          0.2971,  0.4233,  0.3800,  0.3369,  0.2940,  0.2513,  0.2089,  0.1667,\n",
              "          0.1247,  0.0829,  0.0413,  0.1650,  0.1234,  0.0821,  0.0409,  0.1633,\n",
              "          0.1222,  0.0812,  0.0405,  0.0000,  0.1210,  0.2414,  0.2006,  0.1601,\n",
              "          0.1198,  0.0797,  0.1987,  0.1586,  0.1187,  0.2368,  0.1969,  0.3143,\n",
              "          0.2744,  0.2346,  0.3511,  0.3114,  0.4272,  0.5425,  0.5026,  0.6172,\n",
              "          0.5774,  0.5377,  0.6514,  0.7647,  0.7249,  0.6852,  0.6458,  0.6065,\n",
              "          0.7186,  0.6794,  0.6403,  0.6013,  0.5625,  0.5239,  0.4855,  0.4472,\n",
              "          0.5579,  0.5196,  0.4815,  0.4435,  0.5533,  0.6626,  0.6245,  0.5866,\n",
              "          0.5488,  0.5112,  0.4737,  0.4364,  0.3993,  0.5072,  0.4700,  0.4330,\n",
              "          0.3962,  0.3594,  0.3229,  0.2864,  0.2502,  0.3567,  0.3204,  0.2843,\n",
              "          0.2483,  0.2124,  0.1767,  0.1411,  0.1056,  0.0703,  0.0351,  0.0000,\n",
              "         -0.0349,  0.0698,  0.0348,  0.1390,  0.1041,  0.0693,  0.1728,  0.1380,\n",
              "          0.1033,  0.0688,  0.0343,  0.0000, -0.0342, -0.0683, -0.1022, -0.1361,\n",
              "         -0.1698, -0.2034, -0.1015,  0.0000,  0.1012,  0.0673,  0.1681,  0.1342,\n",
              "          0.1005,  0.2007,  0.1669,  0.2667,  0.2329,  0.1993,  0.1658,  0.2649,\n",
              "          0.3636,  0.3300,  0.2966,  0.2632,  0.2299,  0.3279,  0.2946,  0.2615,\n",
              "          0.3590,  0.4561,  0.4229,  0.5197,  0.4864,  0.5828,  0.6788,  0.6455,\n",
              "          0.7412,  0.8365,  0.9316,  1.0264,  1.1209,  1.2151,  1.3090,  1.2752,\n",
              "          1.3687,  1.4620,  1.4280,  1.5209,  1.6136,  1.5796,  1.5457,  1.6378,\n",
              "          1.7298,  1.6958,  1.6619,  1.6282,  1.5945,  1.6859,  1.6522,  1.7432,\n",
              "          1.8339,  1.8002,  1.8906,  1.8570,  1.9470,  2.0368,  2.0031,  1.9695,\n",
              "          2.0589,  2.1480,  2.1143,  2.2032,  2.2917,  2.3801,  2.3463,  2.4343,\n",
              "          2.4006,  2.3669,  2.4545,  2.5420,  2.6291,  2.7161,  2.8028,  2.8893,\n",
              "          2.9755,  3.0615,  3.1473,  3.2329,  3.3182,  3.2839,  3.3690,  3.3348,\n",
              "          3.3006,  3.3853,  3.4698,  3.4356,  3.5198,  3.6039,  3.6877,  3.7712,\n",
              "          3.8546,  3.9378,  4.0207,  4.1035,  4.1860,  4.2683,  4.2337,  4.3158,\n",
              "          4.3976,  4.4793,  4.4446,  4.5260,  4.6072,  4.6883,  4.6535,  4.7343,\n",
              "          4.8149,  4.7801,  4.8604,  4.9406,  5.0205,  5.1003,  5.1799,  5.2593,\n",
              "          5.3385,  5.4175,  5.4964,  5.5750,  5.5399,  5.6183,  5.6965,  5.7746,\n",
              "          5.7394,  5.8173,  5.8949,  5.9724,  5.9372,  6.0145,  6.0916,  6.0563,\n",
              "          6.1332,  6.2099,  6.2865,  6.3629,  6.4391,  6.5151,  6.5910,  6.6667,\n",
              "          6.7422,  6.8176,  6.7820,  6.8572,  6.9322,  7.0071,  6.9715,  7.0462,\n",
              "          7.1207,  7.1950,  7.1594,  7.2336,  7.3075,  7.2720,  7.3458,  7.4194,\n",
              "          7.4929,  7.5662,  7.6394,  7.7124,  7.7852,  7.8580,  7.9305,  8.0029,\n",
              "          7.9672,  8.0394,  8.1115,  8.1834,  8.1476,  8.2194,  8.2910,  8.3625,\n",
              "          8.3267,  8.3980,  8.4692,  8.4334,  8.5044,  8.5752,  8.6459,  8.7165,\n",
              "          8.7869,  8.8572,  8.9273,  8.9974,  9.0672,  9.1370,  9.1010,  9.1706,\n",
              "          9.2400,  9.3093,  9.2734,  9.3426,  9.4116,  9.4805,  9.4446,  9.5133,\n",
              "          9.5819,  9.5460,  9.6145,  9.6828,  9.7510,  9.8190,  9.8869,  9.9547,\n",
              "         10.0224, 10.0900, 10.1574, 10.2247, 10.1887, 10.2558, 10.3229, 10.3898,\n",
              "         10.3538, 10.4205, 10.4872, 10.5537, 10.5177, 10.5841, 10.6504]),\n",
              " 'prediction': True,\n",
              " 'confidence': 1.0}"
            ]
          },
          "metadata": {},
          "execution_count": 14
        }
      ]
    },
    {
      "cell_type": "markdown",
      "source": [
        "# Now we check for different values for the hyperparameter by keeping gamma constant and varying delta. For this I increase the delta value since the paper proposes that increasing the delta value the watermark becomes stronger"
      ],
      "metadata": {
        "id": "8da7a5Ko2xIp"
      }
    },
    {
      "cell_type": "code",
      "source": [
        "gamma = 0.25\n",
        "delta = 4.5\n",
        "seeding_scheme = \"selfhash\""
      ],
      "metadata": {
        "id": "fA4Bs-M8h6Ja"
      },
      "execution_count": null,
      "outputs": []
    },
    {
      "cell_type": "code",
      "source": [
        "model.to(device)\n",
        "tokenized_input = tokenizer(input_text, return_tensors=\"pt\")\n",
        "tokenized_input = {key: value.to(device) for key, value in tokenized_input.items()}\n",
        "\n",
        "watermark_processor = WatermarkLogitsProcessor(vocab=list(tokenizer.get_vocab().values()),\n",
        "                                               gamma=gamma,\n",
        "                                               delta=delta,\n",
        "                                               seeding_scheme=seeding_scheme,\n",
        "                                               select_green_tokens=True)\n",
        "\n",
        "output_with_watermark = model.generate(**tokd_input,\n",
        "                                       logits_processor=LogitsProcessorList([watermark_processor]),\n",
        "                                       **gen_kwargs)\n",
        "decoded_watermark = tokenizer.batch_decode(output_with_watermark, skip_special_tokens=True)[0]"
      ],
      "metadata": {
        "colab": {
          "base_uri": "https://localhost:8080/"
        },
        "id": "MckfJS3W7NDg",
        "outputId": "661d3f02-df1a-4e0a-94e0-7f1d049847ef"
      },
      "execution_count": null,
      "outputs": [
        {
          "output_type": "stream",
          "name": "stderr",
          "text": [
            "Setting `pad_token_id` to `eos_token_id`:50256 for open-end generation.\n"
          ]
        }
      ]
    },
    {
      "cell_type": "code",
      "source": [
        "from extended_watermark_processor import WatermarkDetector\n",
        "\n",
        "watermark_detector = WatermarkDetector(vocab=list(tokenizer.get_vocab().values()),\n",
        "                                        gamma=gamma,\n",
        "                                        seeding_scheme=seeding_scheme,\n",
        "                                        device='cuda',\n",
        "                                        tokenizer=tokenizer,\n",
        "                                        z_threshold=4.0,\n",
        "                                        normalizers=\"\",\n",
        "                                        ignore_repeated_ngrams=False,\n",
        "                                        select_green_tokens=True)\n",
        "\n",
        "results = watermark_detector.detect(decoded_watermark)\n",
        "\n",
        "results"
      ],
      "metadata": {
        "colab": {
          "base_uri": "https://localhost:8080/"
        },
        "id": "ntdpGc0j7ROW",
        "outputId": "90be5847-8ad3-4f98-8dac-642cac7721c8"
      },
      "execution_count": null,
      "outputs": [
        {
          "output_type": "execute_result",
          "data": {
            "text/plain": [
              "{'num_tokens_scored': 508,\n",
              " 'num_green_tokens': 256,\n",
              " 'green_fraction': 0.5039370078740157,\n",
              " 'z_score': 13.217740405126847,\n",
              " 'p_value': 3.465754813158284e-40,\n",
              " 'z_score_at_T': tensor([ 1.7321,  0.8165,  1.6667,  2.3094,  2.8402,  2.3570,  1.9640,  2.4495,\n",
              "          2.1170,  1.8257,  1.5667,  1.3333,  1.1209,  0.9258,  0.7454,  0.5774,\n",
              "          0.4201,  0.2722,  0.6623,  0.5164,  0.3780,  0.2462,  0.1204,  0.4714,\n",
              "          0.8083,  1.1323,  1.0000,  1.3093,  1.1793,  1.0541,  1.3480,  1.2247,\n",
              "          1.1055,  0.9901,  1.2687,  1.5396,  1.4237,  1.3112,  1.2019,  1.0954,\n",
              "          0.9918,  0.8909,  0.7924,  1.0445,  0.9467,  0.8513,  0.7579,  0.6667,\n",
              "          0.9073,  0.8165,  1.0510,  0.9608,  1.1896,  1.0999,  1.0120,  0.9258,\n",
              "          0.8412,  0.7581,  0.6765,  0.5963,  0.5175,  0.7332,  0.6547,  0.5774,\n",
              "          0.5013,  0.4264,  0.3527,  0.2801,  0.2085,  0.1380,  0.0685,  0.0000,\n",
              "          0.2027,  0.1342,  0.0667,  0.2649,  0.1974,  0.1307,  0.3248,  0.2582,\n",
              "          0.1925,  0.1275,  0.0634,  0.2520,  0.1879,  0.1245,  0.0619,  0.0000,\n",
              "         -0.0612, -0.1217, -0.1816, -0.2408, -0.2993, -0.3573, -0.4146, -0.2357,\n",
              "         -0.2931, -0.3499, -0.4062, -0.2309, -0.2872, -0.1143, -0.1707, -0.2265,\n",
              "         -0.0563, -0.1122, -0.1674, -0.2222, -0.2765, -0.1101, -0.1644, -0.2182,\n",
              "         -0.2716, -0.1081,  0.0538,  0.0000, -0.0534, -0.1063, -0.1588, -0.2108,\n",
              "         -0.2624, -0.3136, -0.3644, -0.4148, -0.4648, -0.5143, -0.3586, -0.4082,\n",
              "         -0.2542, -0.3038, -0.3531, -0.4020, -0.4506, -0.4988, -0.5466, -0.5941,\n",
              "         -0.4439, -0.4915, -0.5387, -0.5855, -0.6321, -0.6783, -0.5311, -0.5774,\n",
              "         -0.4315, -0.4778, -0.5238, -0.5695, -0.6149, -0.6600, -0.5168, -0.5620,\n",
              "         -0.4201, -0.4652, -0.5101, -0.5547, -0.4147, -0.2756, -0.3205, -0.1826,\n",
              "         -0.2275, -0.2722, -0.3166, -0.1803, -0.2247, -0.2689, -0.1340,  0.0000,\n",
              "         -0.0444,  0.0886,  0.0442,  0.0000, -0.0439,  0.0875,  0.0436,  0.0000,\n",
              "          0.1302,  0.0865,  0.0432,  0.1721,  0.1287,  0.2568,  0.2134,  0.3405,\n",
              "          0.2971,  0.4233,  0.3800,  0.3369,  0.2940,  0.2513,  0.2089,  0.1667,\n",
              "          0.1247,  0.0829,  0.0413,  0.1650,  0.1234,  0.0821,  0.0409,  0.1633,\n",
              "          0.1222,  0.0812,  0.0405,  0.0000,  0.1210,  0.2414,  0.2006,  0.1601,\n",
              "          0.1198,  0.0797,  0.1987,  0.1586,  0.1187,  0.2368,  0.1969,  0.3143,\n",
              "          0.2744,  0.2346,  0.3511,  0.3114,  0.4272,  0.5425,  0.5026,  0.6172,\n",
              "          0.5774,  0.5377,  0.6514,  0.7647,  0.7249,  0.6852,  0.6458,  0.6065,\n",
              "          0.7186,  0.6794,  0.6403,  0.6013,  0.5625,  0.5239,  0.4855,  0.4472,\n",
              "          0.5579,  0.5196,  0.4815,  0.4435,  0.5533,  0.6626,  0.6245,  0.5866,\n",
              "          0.5488,  0.5112,  0.4737,  0.4364,  0.3993,  0.5072,  0.4700,  0.4330,\n",
              "          0.3962,  0.3594,  0.3229,  0.2864,  0.2502,  0.3567,  0.3204,  0.2843,\n",
              "          0.2483,  0.2124,  0.1767,  0.1411,  0.1056,  0.0703,  0.0351,  0.0000,\n",
              "         -0.0349,  0.0698,  0.0348,  0.1390,  0.1041,  0.0693,  0.1728,  0.1380,\n",
              "          0.1033,  0.0688,  0.0343,  0.0000, -0.0342, -0.0683, -0.1022, -0.1361,\n",
              "         -0.1698, -0.2034, -0.1015,  0.0000,  0.1012,  0.0673,  0.1681,  0.1342,\n",
              "          0.1005,  0.2007,  0.1669,  0.2667,  0.2329,  0.1993,  0.1658,  0.2649,\n",
              "          0.3636,  0.3300,  0.2966,  0.2632,  0.2299,  0.3279,  0.2946,  0.3922,\n",
              "          0.4895,  0.5865,  0.6831,  0.7795,  0.8755,  0.9713,  1.0667,  1.1619,\n",
              "          1.2568,  1.3513,  1.3171,  1.4113,  1.5052,  1.5988,  1.5644,  1.5302,\n",
              "          1.6233,  1.7162,  1.8088,  1.9012,  1.9932,  2.0850,  2.1765,  2.2678,\n",
              "          2.3588,  2.4495,  2.5399,  2.6301,  2.7201,  2.8098,  2.8992,  2.9883,\n",
              "          3.0773,  3.1659,  3.2543,  3.3425,  3.4304,  3.5181,  3.6056,  3.6927,\n",
              "          3.6568,  3.7437,  3.8303,  3.9167,  4.0029,  4.0889,  4.1746,  4.2601,\n",
              "          4.3453,  4.4303,  4.5152,  4.5997,  4.6841,  4.7682,  4.8521,  4.9358,\n",
              "          5.0193,  5.1026,  5.1856,  5.2684,  5.3510,  5.4334,  5.5156,  5.4785,\n",
              "          5.5605,  5.5234,  5.4865,  5.5681,  5.6495,  5.7307,  5.8117,  5.8926,\n",
              "          5.9732,  6.0536,  6.1338,  6.2138,  6.2937,  6.3733,  6.4527,  6.5320,\n",
              "          6.6110,  6.6899,  6.7686,  6.8471,  6.9254,  7.0035,  7.0814,  7.1591,\n",
              "          7.2367,  7.3141,  7.3913,  7.4683,  7.5451,  7.5072,  7.5838,  7.6603,\n",
              "          7.7365,  7.8126,  7.8886,  7.9643,  8.0399,  8.1153,  8.1906,  8.2656,\n",
              "          8.3405,  8.4153,  8.4898,  8.5642,  8.6385,  8.7125,  8.7865,  8.8602,\n",
              "          8.9338,  8.8953,  8.8570,  8.9303,  8.8920,  8.8539,  8.9270,  9.0000,\n",
              "          9.0728,  9.1455,  9.2180,  9.2904,  9.2522,  9.3244,  9.3964,  9.4683,\n",
              "          9.5400,  9.6116,  9.6831,  9.7543,  9.8255,  9.8965,  9.8581,  9.9289,\n",
              "          9.9996, 10.0701, 10.1405, 10.2108, 10.2809, 10.3508, 10.4206, 10.4903,\n",
              "         10.5599, 10.6293, 10.6985, 10.7676, 10.8366, 10.7980, 10.7595, 10.8283,\n",
              "         10.8970, 10.9655, 11.0339, 10.9955, 10.9571, 10.9188, 10.9870, 10.9488,\n",
              "         11.0168, 11.0848, 11.1526, 11.2202, 11.2878, 11.3552, 11.4225, 11.4896,\n",
              "         11.5566, 11.6235, 11.6903, 11.7570, 11.8235, 11.8899, 11.9561, 12.0223,\n",
              "         12.0883, 12.1542, 12.2200, 12.2857, 12.3512, 12.4166, 12.4819, 12.5471,\n",
              "         12.6122, 12.5736, 12.6386, 12.7034, 12.7681, 12.8327, 12.8971, 12.9615,\n",
              "         13.0257, 13.0898, 13.1538, 13.2177]),\n",
              " 'prediction': True,\n",
              " 'confidence': 1.0}"
            ]
          },
          "metadata": {},
          "execution_count": 17
        }
      ]
    },
    {
      "cell_type": "markdown",
      "source": [
        "# Next keep the delta constant to 2.0 and vary the gamma value to see if there are any changes.\n",
        "Note that the seeding_scheme can be changed to simple_1 or minihash as well"
      ],
      "metadata": {
        "id": "0wbEhwDg7t6S"
      }
    },
    {
      "cell_type": "code",
      "source": [
        "gamma = 0.97\n",
        "delta = 2.0\n",
        "seeding_scheme = \"selfhash\""
      ],
      "metadata": {
        "id": "CsmkyjSN7cuf"
      },
      "execution_count": null,
      "outputs": []
    },
    {
      "cell_type": "code",
      "source": [
        "model.to(device)\n",
        "tokenized_input = tokenizer(input_text, return_tensors=\"pt\")\n",
        "tokenized_input = {key: value.to(device) for key, value in tokenized_input.items()}\n",
        "\n",
        "watermark_processor = WatermarkLogitsProcessor(vocab=list(tokenizer.get_vocab().values()),\n",
        "                                               gamma=gamma,\n",
        "                                               delta=delta,\n",
        "                                               seeding_scheme=seeding_scheme,\n",
        "                                               select_green_tokens=True)\n",
        "\n",
        "output_with_watermark = model.generate(**tokd_input,\n",
        "                                       logits_processor=LogitsProcessorList([watermark_processor]),\n",
        "                                       **gen_kwargs)\n",
        "decoded_watermark = tokenizer.batch_decode(output_with_watermark, skip_special_tokens=True)[0]"
      ],
      "metadata": {
        "colab": {
          "base_uri": "https://localhost:8080/"
        },
        "id": "f9K8YW_w9LKt",
        "outputId": "f9c890f4-f5f8-49ba-c7d8-8a1e832e7ed7"
      },
      "execution_count": null,
      "outputs": [
        {
          "output_type": "stream",
          "name": "stderr",
          "text": [
            "Setting `pad_token_id` to `eos_token_id`:50256 for open-end generation.\n"
          ]
        }
      ]
    },
    {
      "cell_type": "code",
      "source": [
        "from extended_watermark_processor import WatermarkDetector\n",
        "\n",
        "watermark_detector = WatermarkDetector(vocab=list(tokenizer.get_vocab().values()),\n",
        "                                        gamma=gamma,\n",
        "                                        seeding_scheme=seeding_scheme,\n",
        "                                        device='cuda',\n",
        "                                        tokenizer=tokenizer,\n",
        "                                        z_threshold=4.0,\n",
        "                                        normalizers=\"\",\n",
        "                                        ignore_repeated_ngrams=False,\n",
        "                                        select_green_tokens=True)\n",
        "\n",
        "results = watermark_detector.detect(decoded_watermark)\n",
        "\n",
        "results"
      ],
      "metadata": {
        "colab": {
          "base_uri": "https://localhost:8080/"
        },
        "id": "eXNoZ3059Sfa",
        "outputId": "10452a01-0eaa-4f37-c410-529071fffb84"
      },
      "execution_count": null,
      "outputs": [
        {
          "output_type": "execute_result",
          "data": {
            "text/plain": [
              "{'num_tokens_scored': 511,\n",
              " 'num_green_tokens': 505,\n",
              " 'green_fraction': 0.9882583170254403,\n",
              " 'z_score': 2.4194948341516627,\n",
              " 'p_value': 0.007771040742776608,\n",
              " 'z_score_at_T': tensor([0.1759, 0.2487, 0.3046, 0.3517, 0.3932, 0.4308, 0.4653, 0.4974, 0.5276,\n",
              "         0.5561, 0.5833, 0.6092, 0.6341, 0.6580, 0.6811, 0.7035, 0.7251, 0.7461,\n",
              "         0.7666, 0.7865, 0.8059, 0.8249, 0.8434, 0.8615, 0.8793, 0.8967, 0.9138,\n",
              "         0.9306, 0.9471, 0.9632, 0.9792, 0.9948, 1.0103, 1.0254, 1.0404, 1.0552,\n",
              "         1.0697, 1.0841, 1.0983, 1.1123, 1.1261, 1.1397, 1.1532, 1.1665, 0.3059,\n",
              "         0.3284, 0.3506, 0.3723, 0.3936, 0.4145, 0.4351, 0.4552, 0.4751, 0.4946,\n",
              "         0.5138, 0.5327, 0.5513, 0.5696, 0.5876, 0.6054, 0.6230, 0.6403, 0.6573,\n",
              "         0.6741, 0.6907, 0.7071, 0.7233, 0.7393, 0.7551, 0.7707, 0.7861, 0.8014,\n",
              "         0.8165, 0.8314, 0.8461, 0.8607, 0.8751, 0.8894, 0.9036, 0.9176, 0.9314,\n",
              "         0.9451, 0.9587, 0.9722, 0.9855, 0.9988, 1.0119, 1.0248, 1.0377, 1.0505,\n",
              "         1.0631, 1.0756, 1.0881, 1.1004, 1.1127, 1.1248, 1.1368, 1.1488, 1.1606,\n",
              "         1.1724, 1.1841, 1.1957, 1.2072, 1.2186, 1.2300, 1.2412, 1.2524, 1.2635,\n",
              "         1.2746, 1.2855, 1.2964, 1.3072, 1.3180, 1.3287, 1.3393, 1.3498, 1.3603,\n",
              "         1.3707, 1.3811, 1.3913, 1.4016, 1.4117, 1.4218, 1.4319, 1.4419, 1.4518,\n",
              "         1.4617, 1.4715, 1.4813, 1.4910, 1.5007, 1.5103, 1.5198, 1.5293, 1.5388,\n",
              "         1.5482, 1.5576, 1.5669, 1.5762, 1.5854, 1.5946, 1.6037, 1.6128, 1.6218,\n",
              "         1.6308, 1.6398, 1.6487, 1.6576, 1.6664, 1.6752, 1.6840, 1.6927, 1.7014,\n",
              "         1.7100, 1.7186, 1.7272, 1.7357, 1.7442, 1.7526, 1.7611, 1.7695, 1.7778,\n",
              "         1.7861, 1.7944, 1.3463, 1.3559, 1.3654, 1.3749, 1.3844, 1.3938, 1.4031,\n",
              "         1.4125, 1.4217, 1.4310, 1.4402, 1.4493, 1.4585, 1.4675, 1.4766, 1.4856,\n",
              "         1.4945, 1.5035, 1.5123, 1.5212, 1.5300, 1.5388, 1.5475, 1.5562, 1.5649,\n",
              "         1.5735, 1.5821, 1.5907, 1.5992, 1.6077, 1.6162, 1.6246, 1.6330, 1.6414,\n",
              "         1.6497, 1.6581, 1.6663, 1.6746, 1.6828, 1.6910, 1.6991, 1.7072, 1.7153,\n",
              "         1.7234, 1.7314, 1.7394, 1.7474, 1.7554, 1.7633, 1.7712, 1.7791, 1.7869,\n",
              "         1.7947, 1.8025, 1.8103, 1.8180, 1.8257, 1.8334, 1.8411, 1.8487, 1.8563,\n",
              "         1.8639, 1.8715, 1.8790, 1.8865, 1.8940, 1.9015, 1.9089, 1.9164, 1.9237,\n",
              "         1.9311, 1.9385, 1.9458, 1.9531, 1.9604, 1.9677, 1.9749, 1.9821, 1.9893,\n",
              "         1.6212, 1.6291, 1.6370, 1.6449, 1.6528, 1.6606, 1.6684, 1.6762, 1.6839,\n",
              "         1.6916, 1.6993, 1.7070, 1.7147, 1.7223, 1.7299, 1.7375, 1.7450, 1.7526,\n",
              "         1.7601, 1.7676, 1.7751, 1.7825, 1.7899, 1.7974, 1.8047, 1.8121, 1.8195,\n",
              "         1.8268, 1.8341, 1.8414, 1.8486, 1.8559, 1.8631, 1.8703, 1.8775, 1.8846,\n",
              "         1.8918, 1.8989, 1.9060, 1.9131, 1.9201, 1.9272, 1.5876, 1.5952, 1.6028,\n",
              "         1.6103, 1.6179, 1.6254, 1.6329, 1.6404, 1.6479, 1.6553, 1.6628, 1.6702,\n",
              "         1.6775, 1.6849, 1.6922, 1.6996, 1.7069, 1.3774, 1.3852, 1.3930, 1.4008,\n",
              "         1.4085, 1.4163, 1.4240, 1.4317, 1.4393, 1.4470, 1.4546, 1.4622, 1.4698,\n",
              "         1.4774, 1.4849, 1.4924, 1.4999, 1.5074, 1.5149, 1.5223, 1.5298, 1.5372,\n",
              "         1.5446, 1.5519, 1.5593, 1.5666, 1.5739, 1.5812, 1.5885, 1.5958, 1.6030,\n",
              "         1.6102, 1.6174, 1.6246, 1.6318, 1.6389, 1.6460, 1.6532, 1.6603, 1.6673,\n",
              "         1.6744, 1.6815, 1.6885, 1.6955, 1.7025, 1.7095, 1.7164, 1.7234, 1.7303,\n",
              "         1.7372, 1.7441, 1.7510, 1.7579, 1.7647, 1.7716, 1.7784, 1.7852, 1.7920,\n",
              "         1.7987, 1.8055, 1.8122, 1.8190, 1.8257, 1.8324, 1.8390, 1.8457, 1.8524,\n",
              "         1.8590, 1.8656, 1.8722, 1.8788, 1.8854, 1.8920, 1.8985, 1.9051, 1.9116,\n",
              "         1.9181, 1.9246, 1.9311, 1.9376, 1.9440, 1.9504, 1.9569, 1.9633, 1.9697,\n",
              "         1.9761, 1.9825, 1.9888, 1.9952, 2.0015, 2.0078, 2.0141, 2.0204, 2.0267,\n",
              "         2.0330, 2.0393, 2.0455, 2.0517, 2.0580, 2.0642, 2.0704, 2.0766, 2.0827,\n",
              "         2.0889, 2.0950, 1.8110, 1.8174, 1.8239, 1.8304, 1.8368, 1.8432, 1.8496,\n",
              "         1.8560, 1.8624, 1.8688, 1.8752, 1.8815, 1.8879, 1.8942, 1.9005, 1.9068,\n",
              "         1.9131, 1.9194, 1.9257, 1.9319, 1.9382, 1.9444, 1.9506, 1.9568, 1.9630,\n",
              "         1.9692, 1.9754, 1.9815, 1.9877, 1.9938, 1.9999, 2.0060, 2.0121, 2.0182,\n",
              "         2.0243, 2.0304, 2.0364, 2.0425, 2.0485, 2.0545, 2.0606, 2.0666, 2.0726,\n",
              "         2.0785, 2.0845, 2.0905, 2.0964, 2.1024, 2.1083, 2.1142, 2.1201, 2.1260,\n",
              "         2.1319, 2.1378, 2.1437, 2.1495, 2.1554, 2.1612, 2.1670, 2.1728, 2.1786,\n",
              "         2.1844, 2.1902, 2.1960, 2.2018, 2.2075, 2.2133, 2.2190, 2.2247, 2.2305,\n",
              "         2.2362, 2.2419, 2.2476, 2.2532, 2.2589, 2.2646, 2.2702, 2.2759, 2.2815,\n",
              "         2.2871, 2.2927, 2.2984, 2.3040, 2.3095, 2.3151, 2.3207, 2.3263, 2.3318,\n",
              "         2.3374, 2.3429, 2.3484, 2.3539, 2.3595, 2.3650, 2.3704, 2.3759, 2.3814,\n",
              "         2.3869, 2.3923, 2.3978, 2.4032, 2.4087, 2.4141, 2.4195]),\n",
              " 'prediction': False}"
            ]
          },
          "metadata": {},
          "execution_count": 20
        }
      ]
    },
    {
      "cell_type": "markdown",
      "source": [
        "The above results show the prediction as false which proves that increasing gamma values descreases the strength of the watermark"
      ],
      "metadata": {
        "id": "GtpwpijX9eUS"
      }
    },
    {
      "cell_type": "code",
      "source": [
        "def generate_without_watermark(input_text):\n",
        "\n",
        "    tokd_input = tokenizer(input_text, return_tensors=\"pt\", add_special_tokens=True, truncation=True).to(device)\n",
        "    truncation_warning = True if tokd_input[\"input_ids\"].shape[-1] == 200 else False\n",
        "\n",
        "    output_with_watermark = model.generate(**tokd_input)\n",
        "\n",
        "    unwatermarked = tokenizer.batch_decode(output_with_watermark, skip_special_tokens=True)[0]\n",
        "\n",
        "    return unwatermarked\n",
        "\n",
        "unwatermarked = generate_without_watermark(input_text=input_text)\n",
        "print(unwatermarked)"
      ],
      "metadata": {
        "colab": {
          "base_uri": "https://localhost:8080/"
        },
        "id": "dTBHZdGORg9E",
        "outputId": "df196a69-c879-4274-eee8-f118539714de"
      },
      "execution_count": null,
      "outputs": [
        {
          "output_type": "stream",
          "name": "stderr",
          "text": [
            "Setting `pad_token_id` to `eos_token_id`:50256 for open-end generation.\n"
          ]
        },
        {
          "output_type": "stream",
          "name": "stdout",
          "text": [
            "The diamondback terrapin or simply terrapin (Malaclemys terrapin) is a species of turtle native to the brackish coastal tidal marshes of the Northeastern and southern United States, and in Bermuda.[6] It belongs to the monotypic genus Malaclemys. It has one of the largest ranges of all turtles in North America, stretching as far south as the Florida Keys and as far north as Cape Cod.[7] The name 'terrapin' is derived from the Algonquian word torope.[8] It applies to Malaclemys terrapin in both British English and American English. The name originally was used by early European settlers in North America to describe these brackish-water turtles that inhabited neither freshwater habitats nor the sea. It retains this primary meaning in American English.[8] In British English, however, other semi-aquatic turtle species, such as the red-eared slider, might also be called terrapins. The common name refers to the diamond pattern on top of its shell (carapace), but the overall pattern and coloration vary greatly. The shell is usually wider at the back than in the front, and from above it appears wedge-shaped. The shell coloring can vary from brown to grey, and its body color can be grey, brown, yellow, or white. All have a unique pattern of wiggly, black markings or spots on their body and head. The diamondback terrapin has large webbed feet.[9] The species is found\n"
          ]
        },
        {
          "output_type": "stream",
          "name": "stderr",
          "text": [
            "/usr/local/lib/python3.10/dist-packages/transformers/generation/utils.py:1273: UserWarning: Using the model-agnostic default `max_length` (=20) to control the generation length. We recommend setting `max_new_tokens` to control the maximum length of the generation.\n",
            "  warnings.warn(\n",
            "/usr/local/lib/python3.10/dist-packages/transformers/generation/utils.py:1281: UserWarning: Input length of input_ids is 314, but `max_length` is set to 20. This can lead to unexpected behavior. You should consider increasing `max_new_tokens`.\n",
            "  warnings.warn(\n"
          ]
        }
      ]
    },
    {
      "cell_type": "code",
      "source": [
        "results = watermark_detector.detect(unwatermarked)\n",
        "results"
      ],
      "metadata": {
        "colab": {
          "base_uri": "https://localhost:8080/"
        },
        "id": "uDclEVUWQsdQ",
        "outputId": "ac6669fa-f2e5-4765-b52f-bd0e19987c69"
      },
      "execution_count": null,
      "outputs": [
        {
          "output_type": "execute_result",
          "data": {
            "text/plain": [
              "{'num_tokens_scored': 312,\n",
              " 'num_green_tokens': 307,\n",
              " 'green_fraction': 0.9839743589743589,\n",
              " 'z_score': 1.4469805643292446,\n",
              " 'p_value': 0.07395118355103088,\n",
              " 'z_score_at_T': tensor([0.1759, 0.2487, 0.3046, 0.3517, 0.3932, 0.4308, 0.4653, 0.4974, 0.5276,\n",
              "         0.5561, 0.5833, 0.6092, 0.6341, 0.6580, 0.6811, 0.7035, 0.7251, 0.7461,\n",
              "         0.7666, 0.7865, 0.8059, 0.8249, 0.8434, 0.8615, 0.8793, 0.8967, 0.9138,\n",
              "         0.9306, 0.9471, 0.9632, 0.9792, 0.9948, 1.0103, 1.0254, 1.0404, 1.0552,\n",
              "         1.0697, 1.0841, 1.0983, 1.1123, 1.1261, 1.1397, 1.1532, 1.1665, 0.3059,\n",
              "         0.3284, 0.3506, 0.3723, 0.3936, 0.4145, 0.4351, 0.4552, 0.4751, 0.4946,\n",
              "         0.5138, 0.5327, 0.5513, 0.5696, 0.5876, 0.6054, 0.6230, 0.6403, 0.6573,\n",
              "         0.6741, 0.6907, 0.7071, 0.7233, 0.7393, 0.7551, 0.7707, 0.7861, 0.8014,\n",
              "         0.8165, 0.8314, 0.8461, 0.8607, 0.8751, 0.8894, 0.9036, 0.9176, 0.9314,\n",
              "         0.9451, 0.9587, 0.9722, 0.9855, 0.9988, 1.0119, 1.0248, 1.0377, 1.0505,\n",
              "         1.0631, 1.0756, 1.0881, 1.1004, 1.1127, 1.1248, 1.1368, 1.1488, 1.1606,\n",
              "         1.1724, 1.1841, 1.1957, 1.2072, 1.2186, 1.2300, 1.2412, 1.2524, 1.2635,\n",
              "         1.2746, 1.2855, 1.2964, 1.3072, 1.3180, 1.3287, 1.3393, 1.3498, 1.3603,\n",
              "         1.3707, 1.3811, 1.3913, 1.4016, 1.4117, 1.4218, 1.4319, 1.4419, 1.4518,\n",
              "         1.4617, 1.4715, 1.4813, 1.4910, 1.5007, 1.5103, 1.5198, 1.5293, 1.5388,\n",
              "         1.5482, 1.5576, 1.5669, 1.5762, 1.5854, 1.5946, 1.6037, 1.6128, 1.6218,\n",
              "         1.6308, 1.6398, 1.6487, 1.6576, 1.6664, 1.6752, 1.6840, 1.6927, 1.7014,\n",
              "         1.7100, 1.7186, 1.7272, 1.7357, 1.7442, 1.7526, 1.7611, 1.7695, 1.7778,\n",
              "         1.7861, 1.7944, 1.3463, 1.3559, 1.3654, 1.3749, 1.3844, 1.3938, 1.4031,\n",
              "         1.4125, 1.4217, 1.4310, 1.4402, 1.4493, 1.4585, 1.4675, 1.4766, 1.4856,\n",
              "         1.4945, 1.5035, 1.5123, 1.5212, 1.5300, 1.5388, 1.5475, 1.5562, 1.5649,\n",
              "         1.5735, 1.5821, 1.5907, 1.5992, 1.6077, 1.6162, 1.6246, 1.6330, 1.6414,\n",
              "         1.6497, 1.6581, 1.6663, 1.6746, 1.6828, 1.6910, 1.6991, 1.7072, 1.7153,\n",
              "         1.7234, 1.7314, 1.7394, 1.7474, 1.7554, 1.7633, 1.7712, 1.7791, 1.7869,\n",
              "         1.7947, 1.8025, 1.8103, 1.8180, 1.8257, 1.8334, 1.8411, 1.8487, 1.8563,\n",
              "         1.8639, 1.8715, 1.8790, 1.8865, 1.8940, 1.9015, 1.9089, 1.9164, 1.9237,\n",
              "         1.9311, 1.9385, 1.9458, 1.9531, 1.9604, 1.9677, 1.9749, 1.9821, 1.9893,\n",
              "         1.6212, 1.6291, 1.6370, 1.6449, 1.6528, 1.6606, 1.6684, 1.6762, 1.6839,\n",
              "         1.6916, 1.6993, 1.7070, 1.7147, 1.7223, 1.7299, 1.7375, 1.7450, 1.7526,\n",
              "         1.7601, 1.7676, 1.7751, 1.7825, 1.7899, 1.7974, 1.8047, 1.8121, 1.8195,\n",
              "         1.8268, 1.8341, 1.8414, 1.8486, 1.8559, 1.8631, 1.8703, 1.8775, 1.8846,\n",
              "         1.8918, 1.8989, 1.9060, 1.9131, 1.9201, 1.9272, 1.5876, 1.5952, 1.6028,\n",
              "         1.6103, 1.6179, 1.6254, 1.6329, 1.6404, 1.6479, 1.6553, 1.6628, 1.6702,\n",
              "         1.6775, 1.6849, 1.6922, 1.6996, 1.7069, 1.3774, 1.3852, 1.3930, 1.4008,\n",
              "         1.4085, 1.4163, 1.4240, 1.4317, 1.4393, 1.4470]),\n",
              " 'prediction': False}"
            ]
          },
          "metadata": {},
          "execution_count": 28
        }
      ]
    },
    {
      "cell_type": "code",
      "source": [],
      "metadata": {
        "id": "CKRiiu11Sf3n"
      },
      "execution_count": null,
      "outputs": []
    }
  ]
}